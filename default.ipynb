{
 "cells": [
  {
   "cell_type": "markdown",
   "metadata": {},
   "source": [
    "#### 1. Data collection"
   ]
  },
  {
   "cell_type": "code",
   "execution_count": 8,
   "metadata": {},
   "outputs": [],
   "source": [
    "import FinanceDataReader as fdr\n",
    "import html5lib\n",
    "\n",
    "import pandas as pd\n",
    "import numpy as np\n",
    "import matplotlib.pyplot as plt\n",
    "import seaborn as sns\n",
    "\n",
    "import os"
   ]
  },
  {
   "cell_type": "code",
   "execution_count": 11,
   "metadata": {},
   "outputs": [],
   "source": [
    "# test\n",
    "\n",
    "# KOSPI index, 2010 ~ Now\n",
    "kospi = fdr.DataReader('KS11', '2010-01-01')\n",
    "\n",
    "# Indexes, 2010 ~ Now\n",
    "dji = fdr.DataReader('DJI', '2010-01-01') # Dow Jones Industrial(DJI)\n",
    "sp500 = fdr.DataReader('US500', '2010-01-01') # S&P 500 지수 (NYSE)\n",
    "\n",
    "# FX 환율, 2010 ~ 현재\n",
    "usdkrw = fdr.DataReader('USD/KRW', '2010-01-01') # 달러 원화\n",
    "usdeur = fdr.DataReader('USD/EUR', '2010-01-01') # 달러 유로화\n",
    "usdcny = fdr.DataReader('USD/CNY', '2010-01-01') # 달러 위엔화\n",
    "\n",
    "# 상품 선물 가격 데이터\n",
    "gold = fdr.DataReader('ZG', '2010-01-01') # 금 선물 (ICE)\n",
    "\n",
    "# 채권 수익률\n",
    "kr1yt = fdr.DataReader('KR1YT=RR', '2010-01-01') # 1년만기 한국국채 수익률\n",
    "kr10yt = fdr.DataReader('KR10YT=RR', '2010-01-01') # 10년만기 한국국채 수익률\n",
    "us1yt = fdr.DataReader('US1MT=X', '2010-01-01') # 1개월 만기 미국국채 수익률\n",
    "us10yt = fdr.DataReader('US10YT=X', '2010-01-01') # 10년 만기 미국국채 수익률\n",
    "\n",
    "# FRED 데이터\n",
    "nasdaq = fdr.DataReader('NASDAQCOM', '2010-01-01', data_source='fred') # NASDAQCOM 나스닥종합지수\n",
    "# hou_nas = fdr.DataReader(['HSN1F', 'NASDAQCOM'], data_source='fred') # HSN1F 주택판매지수, NASDAQCOM 나스닥종합지수\n",
    "\n",
    "sse = fdr.DataReader('005930', '2010-01-01')"
   ]
  },
  {
   "cell_type": "markdown",
   "metadata": {},
   "source": [
    "#### 2. Preprocessing"
   ]
  },
  {
   "cell_type": "code",
   "execution_count": 12,
   "metadata": {},
   "outputs": [
    {
     "data": {
      "text/html": [
       "<div>\n",
       "<style scoped>\n",
       "    .dataframe tbody tr th:only-of-type {\n",
       "        vertical-align: middle;\n",
       "    }\n",
       "\n",
       "    .dataframe tbody tr th {\n",
       "        vertical-align: top;\n",
       "    }\n",
       "\n",
       "    .dataframe thead th {\n",
       "        text-align: right;\n",
       "    }\n",
       "</style>\n",
       "<table border=\"1\" class=\"dataframe\">\n",
       "  <thead>\n",
       "    <tr style=\"text-align: right;\">\n",
       "      <th></th>\n",
       "      <th>NASDAQCOM</th>\n",
       "    </tr>\n",
       "    <tr>\n",
       "      <th>DATE</th>\n",
       "      <th></th>\n",
       "    </tr>\n",
       "  </thead>\n",
       "  <tbody>\n",
       "    <tr>\n",
       "      <th>2010-01-04</th>\n",
       "      <td>2308.42</td>\n",
       "    </tr>\n",
       "    <tr>\n",
       "      <th>2010-01-05</th>\n",
       "      <td>2308.71</td>\n",
       "    </tr>\n",
       "    <tr>\n",
       "      <th>2010-01-06</th>\n",
       "      <td>2301.09</td>\n",
       "    </tr>\n",
       "    <tr>\n",
       "      <th>2010-01-07</th>\n",
       "      <td>2300.05</td>\n",
       "    </tr>\n",
       "    <tr>\n",
       "      <th>2010-01-08</th>\n",
       "      <td>2317.17</td>\n",
       "    </tr>\n",
       "  </tbody>\n",
       "</table>\n",
       "</div>"
      ],
      "text/plain": [
       "            NASDAQCOM\n",
       "DATE                 \n",
       "2010-01-04    2308.42\n",
       "2010-01-05    2308.71\n",
       "2010-01-06    2301.09\n",
       "2010-01-07    2300.05\n",
       "2010-01-08    2317.17"
      ]
     },
     "execution_count": 12,
     "metadata": {},
     "output_type": "execute_result"
    }
   ],
   "source": [
    "nasdaq.head()"
   ]
  },
  {
   "cell_type": "code",
   "execution_count": 13,
   "metadata": {},
   "outputs": [],
   "source": [
    "kospi_m = pd.DataFrame(data=kospi.Close.values, columns=['kospi'], index=kospi.index)\n",
    "dji_m = pd.DataFrame(data=dji.Close.values, columns=['dji'], index=dji.index)\n",
    "sp500_m = pd.DataFrame(data=sp500.Close.values, columns=['sp500'], index=sp500.index)\n",
    "\n",
    "usdkrw_m = pd.DataFrame(data=usdkrw.Close.values, columns=['usdkrw'], index=usdkrw.index)\n",
    "usdeur_m = pd.DataFrame(data=usdeur.Close.values, columns=['usdeur'], index=usdeur.index)\n",
    "usdcny_m = pd.DataFrame(data=usdcny.Close.values, columns=['usdcny'], index=usdcny.index)\n",
    "\n",
    "gold_m = pd.DataFrame(data=gold.Close.values, columns=['gold'], index=gold.index)\n",
    "\n",
    "kr1yt_m = pd.DataFrame(data=kr1yt.Close.values, columns=['kr1yt'], index=kr1yt.index)\n",
    "kr10yt_m = pd.DataFrame(data=kr10yt.Close.values, columns=['kr10yt'], index=kr10yt.index)\n",
    "us1yt_m = pd.DataFrame(data=us1yt.Close.values, columns=['us1yt'], index=us1yt.index)\n",
    "us10yt_m = pd.DataFrame(data=us10yt.Close.values, columns=['us10yt'], index=us10yt.index)\n",
    "\n",
    "nasdaq_m = pd.DataFrame(data=nasdaq.NASDAQCOM.values, columns=['nasdaq'], index=nasdaq.index)\n",
    "\n",
    "sse_m = pd.DataFrame(data=sse.Close.values, columns=['sse'], index=sse.index)"
   ]
  },
  {
   "cell_type": "code",
   "execution_count": 160,
   "metadata": {},
   "outputs": [],
   "source": [
    "x_columns = [kospi_m, dji_m, sp500_m, usdkrw_m, usdeur_m, usdcny_m, gold_m, \\\n",
    "             kr1yt_m, kr10yt_m, us1yt_m, us10yt_m, nasdaq_m, sse_m]"
   ]
  },
  {
   "cell_type": "code",
   "execution_count": 161,
   "metadata": {},
   "outputs": [],
   "source": [
    "df = pd.concat(x_columns, axis=1)"
   ]
  },
  {
   "cell_type": "code",
   "execution_count": 162,
   "metadata": {},
   "outputs": [
    {
     "data": {
      "text/html": [
       "<div>\n",
       "<style scoped>\n",
       "    .dataframe tbody tr th:only-of-type {\n",
       "        vertical-align: middle;\n",
       "    }\n",
       "\n",
       "    .dataframe tbody tr th {\n",
       "        vertical-align: top;\n",
       "    }\n",
       "\n",
       "    .dataframe thead th {\n",
       "        text-align: right;\n",
       "    }\n",
       "</style>\n",
       "<table border=\"1\" class=\"dataframe\">\n",
       "  <thead>\n",
       "    <tr style=\"text-align: right;\">\n",
       "      <th></th>\n",
       "      <th>kospi</th>\n",
       "      <th>dji</th>\n",
       "      <th>sp500</th>\n",
       "      <th>usdkrw</th>\n",
       "      <th>usdeur</th>\n",
       "      <th>usdcny</th>\n",
       "      <th>gold</th>\n",
       "      <th>kr1yt</th>\n",
       "      <th>kr10yt</th>\n",
       "      <th>us1yt</th>\n",
       "      <th>us10yt</th>\n",
       "      <th>nasdaq</th>\n",
       "      <th>sse</th>\n",
       "    </tr>\n",
       "  </thead>\n",
       "  <tbody>\n",
       "    <tr>\n",
       "      <th>2010-01-01</th>\n",
       "      <td>NaN</td>\n",
       "      <td>NaN</td>\n",
       "      <td>NaN</td>\n",
       "      <td>1166.08</td>\n",
       "      <td>0.6981</td>\n",
       "      <td>6.8270</td>\n",
       "      <td>NaN</td>\n",
       "      <td>NaN</td>\n",
       "      <td>NaN</td>\n",
       "      <td>NaN</td>\n",
       "      <td>NaN</td>\n",
       "      <td>NaN</td>\n",
       "      <td>NaN</td>\n",
       "    </tr>\n",
       "    <tr>\n",
       "      <th>2010-01-04</th>\n",
       "      <td>1696.14</td>\n",
       "      <td>10583.96</td>\n",
       "      <td>1132.99</td>\n",
       "      <td>1150.00</td>\n",
       "      <td>0.6937</td>\n",
       "      <td>6.8285</td>\n",
       "      <td>1117.7</td>\n",
       "      <td>3.47</td>\n",
       "      <td>5.42</td>\n",
       "      <td>0.046</td>\n",
       "      <td>3.823</td>\n",
       "      <td>2308.42</td>\n",
       "      <td>16180.0</td>\n",
       "    </tr>\n",
       "    <tr>\n",
       "      <th>2010-01-05</th>\n",
       "      <td>1690.62</td>\n",
       "      <td>10572.02</td>\n",
       "      <td>1136.52</td>\n",
       "      <td>1140.20</td>\n",
       "      <td>0.6960</td>\n",
       "      <td>6.8268</td>\n",
       "      <td>1118.1</td>\n",
       "      <td>NaN</td>\n",
       "      <td>5.36</td>\n",
       "      <td>0.036</td>\n",
       "      <td>3.763</td>\n",
       "      <td>2308.71</td>\n",
       "      <td>16440.0</td>\n",
       "    </tr>\n",
       "    <tr>\n",
       "      <th>2010-01-06</th>\n",
       "      <td>1705.32</td>\n",
       "      <td>10573.68</td>\n",
       "      <td>1137.14</td>\n",
       "      <td>1129.20</td>\n",
       "      <td>0.6938</td>\n",
       "      <td>6.8278</td>\n",
       "      <td>1135.9</td>\n",
       "      <td>3.44</td>\n",
       "      <td>5.38</td>\n",
       "      <td>0.025</td>\n",
       "      <td>3.829</td>\n",
       "      <td>2301.09</td>\n",
       "      <td>16820.0</td>\n",
       "    </tr>\n",
       "    <tr>\n",
       "      <th>2010-01-07</th>\n",
       "      <td>1683.45</td>\n",
       "      <td>10606.86</td>\n",
       "      <td>1141.69</td>\n",
       "      <td>1138.20</td>\n",
       "      <td>0.6985</td>\n",
       "      <td>6.8281</td>\n",
       "      <td>1133.1</td>\n",
       "      <td>3.43</td>\n",
       "      <td>5.30</td>\n",
       "      <td>0.020</td>\n",
       "      <td>3.827</td>\n",
       "      <td>2300.05</td>\n",
       "      <td>16260.0</td>\n",
       "    </tr>\n",
       "  </tbody>\n",
       "</table>\n",
       "</div>"
      ],
      "text/plain": [
       "              kospi       dji    sp500   usdkrw  usdeur  usdcny    gold  \\\n",
       "2010-01-01      NaN       NaN      NaN  1166.08  0.6981  6.8270     NaN   \n",
       "2010-01-04  1696.14  10583.96  1132.99  1150.00  0.6937  6.8285  1117.7   \n",
       "2010-01-05  1690.62  10572.02  1136.52  1140.20  0.6960  6.8268  1118.1   \n",
       "2010-01-06  1705.32  10573.68  1137.14  1129.20  0.6938  6.8278  1135.9   \n",
       "2010-01-07  1683.45  10606.86  1141.69  1138.20  0.6985  6.8281  1133.1   \n",
       "\n",
       "            kr1yt  kr10yt  us1yt  us10yt   nasdaq      sse  \n",
       "2010-01-01    NaN     NaN    NaN     NaN      NaN      NaN  \n",
       "2010-01-04   3.47    5.42  0.046   3.823  2308.42  16180.0  \n",
       "2010-01-05    NaN    5.36  0.036   3.763  2308.71  16440.0  \n",
       "2010-01-06   3.44    5.38  0.025   3.829  2301.09  16820.0  \n",
       "2010-01-07   3.43    5.30  0.020   3.827  2300.05  16260.0  "
      ]
     },
     "execution_count": 162,
     "metadata": {},
     "output_type": "execute_result"
    }
   ],
   "source": [
    "df.head()"
   ]
  },
  {
   "cell_type": "code",
   "execution_count": 163,
   "metadata": {},
   "outputs": [],
   "source": [
    "# df_dropna = df.dropna(axis=0, how='any')\n",
    "df_dropna = df.fillna(method='ffill')"
   ]
  },
  {
   "cell_type": "code",
   "execution_count": 164,
   "metadata": {},
   "outputs": [
    {
     "name": "stdout",
     "output_type": "stream",
     "text": [
      "<class 'pandas.core.frame.DataFrame'>\n",
      "DatetimeIndex: 4139 entries, 2010-01-01 to 2022-06-10\n",
      "Data columns (total 13 columns):\n",
      " #   Column  Non-Null Count  Dtype  \n",
      "---  ------  --------------  -----  \n",
      " 0   kospi   4138 non-null   float64\n",
      " 1   dji     4138 non-null   float64\n",
      " 2   sp500   4138 non-null   float64\n",
      " 3   usdkrw  4139 non-null   float64\n",
      " 4   usdeur  4139 non-null   float64\n",
      " 5   usdcny  4139 non-null   float64\n",
      " 6   gold    4138 non-null   float64\n",
      " 7   kr1yt   4138 non-null   float64\n",
      " 8   kr10yt  4138 non-null   float64\n",
      " 9   us1yt   4138 non-null   float64\n",
      " 10  us10yt  4138 non-null   float64\n",
      " 11  nasdaq  4138 non-null   float64\n",
      " 12  sse     4138 non-null   float64\n",
      "dtypes: float64(13)\n",
      "memory usage: 452.7 KB\n"
     ]
    }
   ],
   "source": [
    "df_dropna.info()"
   ]
  },
  {
   "cell_type": "code",
   "execution_count": 165,
   "metadata": {},
   "outputs": [],
   "source": [
    "df_dropna = df_dropna.drop(['2010-01-01'])"
   ]
  },
  {
   "cell_type": "code",
   "execution_count": 166,
   "metadata": {},
   "outputs": [
    {
     "name": "stdout",
     "output_type": "stream",
     "text": [
      "<class 'pandas.core.frame.DataFrame'>\n",
      "DatetimeIndex: 4138 entries, 2010-01-04 to 2022-06-10\n",
      "Data columns (total 13 columns):\n",
      " #   Column  Non-Null Count  Dtype  \n",
      "---  ------  --------------  -----  \n",
      " 0   kospi   4138 non-null   float64\n",
      " 1   dji     4138 non-null   float64\n",
      " 2   sp500   4138 non-null   float64\n",
      " 3   usdkrw  4138 non-null   float64\n",
      " 4   usdeur  4138 non-null   float64\n",
      " 5   usdcny  4138 non-null   float64\n",
      " 6   gold    4138 non-null   float64\n",
      " 7   kr1yt   4138 non-null   float64\n",
      " 8   kr10yt  4138 non-null   float64\n",
      " 9   us1yt   4138 non-null   float64\n",
      " 10  us10yt  4138 non-null   float64\n",
      " 11  nasdaq  4138 non-null   float64\n",
      " 12  sse     4138 non-null   float64\n",
      "dtypes: float64(13)\n",
      "memory usage: 452.6 KB\n"
     ]
    }
   ],
   "source": [
    "df_dropna.info()"
   ]
  },
  {
   "cell_type": "code",
   "execution_count": 167,
   "metadata": {},
   "outputs": [],
   "source": [
    "full_df = df_dropna.reset_index()"
   ]
  },
  {
   "cell_type": "code",
   "execution_count": 168,
   "metadata": {},
   "outputs": [
    {
     "data": {
      "text/html": [
       "<div>\n",
       "<style scoped>\n",
       "    .dataframe tbody tr th:only-of-type {\n",
       "        vertical-align: middle;\n",
       "    }\n",
       "\n",
       "    .dataframe tbody tr th {\n",
       "        vertical-align: top;\n",
       "    }\n",
       "\n",
       "    .dataframe thead th {\n",
       "        text-align: right;\n",
       "    }\n",
       "</style>\n",
       "<table border=\"1\" class=\"dataframe\">\n",
       "  <thead>\n",
       "    <tr style=\"text-align: right;\">\n",
       "      <th></th>\n",
       "      <th>index</th>\n",
       "      <th>kospi</th>\n",
       "      <th>dji</th>\n",
       "      <th>sp500</th>\n",
       "      <th>usdkrw</th>\n",
       "      <th>usdeur</th>\n",
       "      <th>usdcny</th>\n",
       "      <th>gold</th>\n",
       "      <th>kr1yt</th>\n",
       "      <th>kr10yt</th>\n",
       "      <th>us1yt</th>\n",
       "      <th>us10yt</th>\n",
       "      <th>nasdaq</th>\n",
       "      <th>sse</th>\n",
       "    </tr>\n",
       "  </thead>\n",
       "  <tbody>\n",
       "    <tr>\n",
       "      <th>0</th>\n",
       "      <td>2010-01-04</td>\n",
       "      <td>1696.14</td>\n",
       "      <td>10583.96</td>\n",
       "      <td>1132.99</td>\n",
       "      <td>1150.00</td>\n",
       "      <td>0.6937</td>\n",
       "      <td>6.8285</td>\n",
       "      <td>1117.7</td>\n",
       "      <td>3.47</td>\n",
       "      <td>5.42</td>\n",
       "      <td>0.046</td>\n",
       "      <td>3.823</td>\n",
       "      <td>2308.42</td>\n",
       "      <td>16180.0</td>\n",
       "    </tr>\n",
       "    <tr>\n",
       "      <th>1</th>\n",
       "      <td>2010-01-05</td>\n",
       "      <td>1690.62</td>\n",
       "      <td>10572.02</td>\n",
       "      <td>1136.52</td>\n",
       "      <td>1140.20</td>\n",
       "      <td>0.6960</td>\n",
       "      <td>6.8268</td>\n",
       "      <td>1118.1</td>\n",
       "      <td>3.47</td>\n",
       "      <td>5.36</td>\n",
       "      <td>0.036</td>\n",
       "      <td>3.763</td>\n",
       "      <td>2308.71</td>\n",
       "      <td>16440.0</td>\n",
       "    </tr>\n",
       "    <tr>\n",
       "      <th>2</th>\n",
       "      <td>2010-01-06</td>\n",
       "      <td>1705.32</td>\n",
       "      <td>10573.68</td>\n",
       "      <td>1137.14</td>\n",
       "      <td>1129.20</td>\n",
       "      <td>0.6938</td>\n",
       "      <td>6.8278</td>\n",
       "      <td>1135.9</td>\n",
       "      <td>3.44</td>\n",
       "      <td>5.38</td>\n",
       "      <td>0.025</td>\n",
       "      <td>3.829</td>\n",
       "      <td>2301.09</td>\n",
       "      <td>16820.0</td>\n",
       "    </tr>\n",
       "    <tr>\n",
       "      <th>3</th>\n",
       "      <td>2010-01-07</td>\n",
       "      <td>1683.45</td>\n",
       "      <td>10606.86</td>\n",
       "      <td>1141.69</td>\n",
       "      <td>1138.20</td>\n",
       "      <td>0.6985</td>\n",
       "      <td>6.8281</td>\n",
       "      <td>1133.1</td>\n",
       "      <td>3.43</td>\n",
       "      <td>5.30</td>\n",
       "      <td>0.020</td>\n",
       "      <td>3.827</td>\n",
       "      <td>2300.05</td>\n",
       "      <td>16260.0</td>\n",
       "    </tr>\n",
       "    <tr>\n",
       "      <th>4</th>\n",
       "      <td>2010-01-08</td>\n",
       "      <td>1695.26</td>\n",
       "      <td>10618.19</td>\n",
       "      <td>1144.98</td>\n",
       "      <td>1128.25</td>\n",
       "      <td>0.6937</td>\n",
       "      <td>6.8276</td>\n",
       "      <td>1138.2</td>\n",
       "      <td>3.35</td>\n",
       "      <td>5.33</td>\n",
       "      <td>0.020</td>\n",
       "      <td>3.836</td>\n",
       "      <td>2317.17</td>\n",
       "      <td>16420.0</td>\n",
       "    </tr>\n",
       "  </tbody>\n",
       "</table>\n",
       "</div>"
      ],
      "text/plain": [
       "       index    kospi       dji    sp500   usdkrw  usdeur  usdcny    gold  \\\n",
       "0 2010-01-04  1696.14  10583.96  1132.99  1150.00  0.6937  6.8285  1117.7   \n",
       "1 2010-01-05  1690.62  10572.02  1136.52  1140.20  0.6960  6.8268  1118.1   \n",
       "2 2010-01-06  1705.32  10573.68  1137.14  1129.20  0.6938  6.8278  1135.9   \n",
       "3 2010-01-07  1683.45  10606.86  1141.69  1138.20  0.6985  6.8281  1133.1   \n",
       "4 2010-01-08  1695.26  10618.19  1144.98  1128.25  0.6937  6.8276  1138.2   \n",
       "\n",
       "   kr1yt  kr10yt  us1yt  us10yt   nasdaq      sse  \n",
       "0   3.47    5.42  0.046   3.823  2308.42  16180.0  \n",
       "1   3.47    5.36  0.036   3.763  2308.71  16440.0  \n",
       "2   3.44    5.38  0.025   3.829  2301.09  16820.0  \n",
       "3   3.43    5.30  0.020   3.827  2300.05  16260.0  \n",
       "4   3.35    5.33  0.020   3.836  2317.17  16420.0  "
      ]
     },
     "execution_count": 168,
     "metadata": {},
     "output_type": "execute_result"
    }
   ],
   "source": [
    "full_df.head()"
   ]
  },
  {
   "cell_type": "code",
   "execution_count": 169,
   "metadata": {},
   "outputs": [
    {
     "data": {
      "text/plain": [
       "3395"
      ]
     },
     "execution_count": 169,
     "metadata": {},
     "output_type": "execute_result"
    }
   ],
   "source": [
    "last_index = full_df.index[(full_df['index'] == '2020-05-19')].tolist()[0]\n",
    "last_index"
   ]
  },
  {
   "cell_type": "code",
   "execution_count": 170,
   "metadata": {},
   "outputs": [],
   "source": [
    "# Truncate df until 2020-05-19\n",
    "\n",
    "truncated_df = full_df[:last_index+1]"
   ]
  },
  {
   "cell_type": "code",
   "execution_count": 171,
   "metadata": {},
   "outputs": [
    {
     "data": {
      "text/html": [
       "<div>\n",
       "<style scoped>\n",
       "    .dataframe tbody tr th:only-of-type {\n",
       "        vertical-align: middle;\n",
       "    }\n",
       "\n",
       "    .dataframe tbody tr th {\n",
       "        vertical-align: top;\n",
       "    }\n",
       "\n",
       "    .dataframe thead th {\n",
       "        text-align: right;\n",
       "    }\n",
       "</style>\n",
       "<table border=\"1\" class=\"dataframe\">\n",
       "  <thead>\n",
       "    <tr style=\"text-align: right;\">\n",
       "      <th></th>\n",
       "      <th>index</th>\n",
       "      <th>kospi</th>\n",
       "      <th>dji</th>\n",
       "      <th>sp500</th>\n",
       "      <th>usdkrw</th>\n",
       "      <th>usdeur</th>\n",
       "      <th>usdcny</th>\n",
       "      <th>gold</th>\n",
       "      <th>kr1yt</th>\n",
       "      <th>kr10yt</th>\n",
       "      <th>us1yt</th>\n",
       "      <th>us10yt</th>\n",
       "      <th>nasdaq</th>\n",
       "      <th>sse</th>\n",
       "    </tr>\n",
       "  </thead>\n",
       "  <tbody>\n",
       "    <tr>\n",
       "      <th>3376</th>\n",
       "      <td>2020-04-30</td>\n",
       "      <td>1947.56</td>\n",
       "      <td>24345.72</td>\n",
       "      <td>2912.43</td>\n",
       "      <td>1212.94</td>\n",
       "      <td>0.9125</td>\n",
       "      <td>7.0600</td>\n",
       "      <td>1694.2</td>\n",
       "      <td>0.806</td>\n",
       "      <td>1.517</td>\n",
       "      <td>0.0890</td>\n",
       "      <td>0.646</td>\n",
       "      <td>8889.551</td>\n",
       "      <td>50000.0</td>\n",
       "    </tr>\n",
       "    <tr>\n",
       "      <th>3377</th>\n",
       "      <td>2020-05-01</td>\n",
       "      <td>1947.56</td>\n",
       "      <td>23723.69</td>\n",
       "      <td>2830.71</td>\n",
       "      <td>1224.89</td>\n",
       "      <td>0.9105</td>\n",
       "      <td>7.0602</td>\n",
       "      <td>1700.9</td>\n",
       "      <td>0.806</td>\n",
       "      <td>1.517</td>\n",
       "      <td>0.1010</td>\n",
       "      <td>0.618</td>\n",
       "      <td>8604.949</td>\n",
       "      <td>50000.0</td>\n",
       "    </tr>\n",
       "    <tr>\n",
       "      <th>3378</th>\n",
       "      <td>2020-05-02</td>\n",
       "      <td>1947.56</td>\n",
       "      <td>23723.69</td>\n",
       "      <td>2830.71</td>\n",
       "      <td>1224.89</td>\n",
       "      <td>0.9105</td>\n",
       "      <td>7.0602</td>\n",
       "      <td>1700.9</td>\n",
       "      <td>0.806</td>\n",
       "      <td>1.517</td>\n",
       "      <td>0.1010</td>\n",
       "      <td>0.618</td>\n",
       "      <td>8604.949</td>\n",
       "      <td>50000.0</td>\n",
       "    </tr>\n",
       "    <tr>\n",
       "      <th>3379</th>\n",
       "      <td>2020-05-03</td>\n",
       "      <td>1947.56</td>\n",
       "      <td>23723.69</td>\n",
       "      <td>2830.71</td>\n",
       "      <td>1224.89</td>\n",
       "      <td>0.9105</td>\n",
       "      <td>7.0602</td>\n",
       "      <td>1700.9</td>\n",
       "      <td>0.806</td>\n",
       "      <td>1.517</td>\n",
       "      <td>0.1014</td>\n",
       "      <td>0.618</td>\n",
       "      <td>8604.949</td>\n",
       "      <td>50000.0</td>\n",
       "    </tr>\n",
       "    <tr>\n",
       "      <th>3380</th>\n",
       "      <td>2020-05-04</td>\n",
       "      <td>1895.37</td>\n",
       "      <td>23749.76</td>\n",
       "      <td>2842.74</td>\n",
       "      <td>1224.14</td>\n",
       "      <td>0.9166</td>\n",
       "      <td>7.0622</td>\n",
       "      <td>1713.3</td>\n",
       "      <td>0.795</td>\n",
       "      <td>1.499</td>\n",
       "      <td>0.0940</td>\n",
       "      <td>0.631</td>\n",
       "      <td>8710.715</td>\n",
       "      <td>48500.0</td>\n",
       "    </tr>\n",
       "    <tr>\n",
       "      <th>3381</th>\n",
       "      <td>2020-05-05</td>\n",
       "      <td>1895.37</td>\n",
       "      <td>23883.09</td>\n",
       "      <td>2868.44</td>\n",
       "      <td>1222.47</td>\n",
       "      <td>0.9227</td>\n",
       "      <td>7.0622</td>\n",
       "      <td>1710.6</td>\n",
       "      <td>0.795</td>\n",
       "      <td>1.496</td>\n",
       "      <td>0.0940</td>\n",
       "      <td>0.662</td>\n",
       "      <td>8809.121</td>\n",
       "      <td>48500.0</td>\n",
       "    </tr>\n",
       "    <tr>\n",
       "      <th>3382</th>\n",
       "      <td>2020-05-06</td>\n",
       "      <td>1928.76</td>\n",
       "      <td>23664.64</td>\n",
       "      <td>2848.42</td>\n",
       "      <td>1228.55</td>\n",
       "      <td>0.9263</td>\n",
       "      <td>7.1031</td>\n",
       "      <td>1688.5</td>\n",
       "      <td>0.786</td>\n",
       "      <td>1.506</td>\n",
       "      <td>0.0860</td>\n",
       "      <td>0.709</td>\n",
       "      <td>8854.387</td>\n",
       "      <td>49200.0</td>\n",
       "    </tr>\n",
       "    <tr>\n",
       "      <th>3383</th>\n",
       "      <td>2020-05-07</td>\n",
       "      <td>1928.61</td>\n",
       "      <td>23875.89</td>\n",
       "      <td>2881.19</td>\n",
       "      <td>1219.61</td>\n",
       "      <td>0.9228</td>\n",
       "      <td>7.0825</td>\n",
       "      <td>1725.8</td>\n",
       "      <td>0.774</td>\n",
       "      <td>1.486</td>\n",
       "      <td>0.0840</td>\n",
       "      <td>0.639</td>\n",
       "      <td>8979.660</td>\n",
       "      <td>48800.0</td>\n",
       "    </tr>\n",
       "    <tr>\n",
       "      <th>3384</th>\n",
       "      <td>2020-05-08</td>\n",
       "      <td>1945.82</td>\n",
       "      <td>24331.32</td>\n",
       "      <td>2929.80</td>\n",
       "      <td>1219.65</td>\n",
       "      <td>0.9224</td>\n",
       "      <td>7.0732</td>\n",
       "      <td>1713.9</td>\n",
       "      <td>0.762</td>\n",
       "      <td>1.426</td>\n",
       "      <td>0.0960</td>\n",
       "      <td>0.685</td>\n",
       "      <td>9121.320</td>\n",
       "      <td>48800.0</td>\n",
       "    </tr>\n",
       "    <tr>\n",
       "      <th>3385</th>\n",
       "      <td>2020-05-09</td>\n",
       "      <td>1945.82</td>\n",
       "      <td>24331.32</td>\n",
       "      <td>2929.80</td>\n",
       "      <td>1219.65</td>\n",
       "      <td>0.9224</td>\n",
       "      <td>7.0732</td>\n",
       "      <td>1713.9</td>\n",
       "      <td>0.757</td>\n",
       "      <td>1.425</td>\n",
       "      <td>0.0960</td>\n",
       "      <td>0.685</td>\n",
       "      <td>9121.320</td>\n",
       "      <td>48800.0</td>\n",
       "    </tr>\n",
       "    <tr>\n",
       "      <th>3386</th>\n",
       "      <td>2020-05-10</td>\n",
       "      <td>1945.82</td>\n",
       "      <td>24331.32</td>\n",
       "      <td>2929.80</td>\n",
       "      <td>1219.65</td>\n",
       "      <td>0.9224</td>\n",
       "      <td>7.0732</td>\n",
       "      <td>1713.9</td>\n",
       "      <td>0.757</td>\n",
       "      <td>1.425</td>\n",
       "      <td>0.1267</td>\n",
       "      <td>0.693</td>\n",
       "      <td>9121.320</td>\n",
       "      <td>48800.0</td>\n",
       "    </tr>\n",
       "    <tr>\n",
       "      <th>3387</th>\n",
       "      <td>2020-05-11</td>\n",
       "      <td>1935.40</td>\n",
       "      <td>24221.99</td>\n",
       "      <td>2930.32</td>\n",
       "      <td>1222.91</td>\n",
       "      <td>0.9251</td>\n",
       "      <td>7.0972</td>\n",
       "      <td>1698.0</td>\n",
       "      <td>0.769</td>\n",
       "      <td>1.461</td>\n",
       "      <td>0.1010</td>\n",
       "      <td>0.707</td>\n",
       "      <td>9192.344</td>\n",
       "      <td>48400.0</td>\n",
       "    </tr>\n",
       "    <tr>\n",
       "      <th>3388</th>\n",
       "      <td>2020-05-12</td>\n",
       "      <td>1922.17</td>\n",
       "      <td>23764.78</td>\n",
       "      <td>2870.12</td>\n",
       "      <td>1226.64</td>\n",
       "      <td>0.9217</td>\n",
       "      <td>7.0816</td>\n",
       "      <td>1706.8</td>\n",
       "      <td>0.754</td>\n",
       "      <td>1.422</td>\n",
       "      <td>0.0990</td>\n",
       "      <td>0.667</td>\n",
       "      <td>9002.551</td>\n",
       "      <td>47900.0</td>\n",
       "    </tr>\n",
       "    <tr>\n",
       "      <th>3389</th>\n",
       "      <td>2020-05-13</td>\n",
       "      <td>1940.42</td>\n",
       "      <td>23247.97</td>\n",
       "      <td>2820.00</td>\n",
       "      <td>1227.37</td>\n",
       "      <td>0.9243</td>\n",
       "      <td>7.0911</td>\n",
       "      <td>1716.4</td>\n",
       "      <td>0.749</td>\n",
       "      <td>1.392</td>\n",
       "      <td>0.0860</td>\n",
       "      <td>0.654</td>\n",
       "      <td>8863.168</td>\n",
       "      <td>48550.0</td>\n",
       "    </tr>\n",
       "    <tr>\n",
       "      <th>3390</th>\n",
       "      <td>2020-05-14</td>\n",
       "      <td>1924.96</td>\n",
       "      <td>23625.34</td>\n",
       "      <td>2852.50</td>\n",
       "      <td>1227.03</td>\n",
       "      <td>0.9254</td>\n",
       "      <td>7.0935</td>\n",
       "      <td>1740.9</td>\n",
       "      <td>0.751</td>\n",
       "      <td>1.382</td>\n",
       "      <td>0.0840</td>\n",
       "      <td>0.617</td>\n",
       "      <td>8943.723</td>\n",
       "      <td>48000.0</td>\n",
       "    </tr>\n",
       "    <tr>\n",
       "      <th>3391</th>\n",
       "      <td>2020-05-15</td>\n",
       "      <td>1927.28</td>\n",
       "      <td>23685.42</td>\n",
       "      <td>2863.70</td>\n",
       "      <td>1232.69</td>\n",
       "      <td>0.9245</td>\n",
       "      <td>7.1013</td>\n",
       "      <td>1756.3</td>\n",
       "      <td>0.748</td>\n",
       "      <td>1.384</td>\n",
       "      <td>0.0940</td>\n",
       "      <td>0.644</td>\n",
       "      <td>9014.559</td>\n",
       "      <td>47850.0</td>\n",
       "    </tr>\n",
       "    <tr>\n",
       "      <th>3392</th>\n",
       "      <td>2020-05-16</td>\n",
       "      <td>1927.28</td>\n",
       "      <td>23685.42</td>\n",
       "      <td>2863.70</td>\n",
       "      <td>1232.69</td>\n",
       "      <td>0.9245</td>\n",
       "      <td>7.1013</td>\n",
       "      <td>1756.3</td>\n",
       "      <td>0.742</td>\n",
       "      <td>1.377</td>\n",
       "      <td>0.0940</td>\n",
       "      <td>0.644</td>\n",
       "      <td>9014.559</td>\n",
       "      <td>47850.0</td>\n",
       "    </tr>\n",
       "    <tr>\n",
       "      <th>3393</th>\n",
       "      <td>2020-05-17</td>\n",
       "      <td>1927.28</td>\n",
       "      <td>23685.42</td>\n",
       "      <td>2863.70</td>\n",
       "      <td>1232.69</td>\n",
       "      <td>0.9245</td>\n",
       "      <td>7.1013</td>\n",
       "      <td>1756.3</td>\n",
       "      <td>0.742</td>\n",
       "      <td>1.377</td>\n",
       "      <td>0.1217</td>\n",
       "      <td>0.643</td>\n",
       "      <td>9014.559</td>\n",
       "      <td>47850.0</td>\n",
       "    </tr>\n",
       "    <tr>\n",
       "      <th>3394</th>\n",
       "      <td>2020-05-18</td>\n",
       "      <td>1937.11</td>\n",
       "      <td>24597.37</td>\n",
       "      <td>2953.91</td>\n",
       "      <td>1225.13</td>\n",
       "      <td>0.9163</td>\n",
       "      <td>7.1086</td>\n",
       "      <td>1734.4</td>\n",
       "      <td>0.736</td>\n",
       "      <td>1.392</td>\n",
       "      <td>0.0910</td>\n",
       "      <td>0.726</td>\n",
       "      <td>9234.828</td>\n",
       "      <td>48800.0</td>\n",
       "    </tr>\n",
       "    <tr>\n",
       "      <th>3395</th>\n",
       "      <td>2020-05-19</td>\n",
       "      <td>1980.61</td>\n",
       "      <td>24206.86</td>\n",
       "      <td>2922.94</td>\n",
       "      <td>1225.04</td>\n",
       "      <td>0.9153</td>\n",
       "      <td>7.0980</td>\n",
       "      <td>1745.6</td>\n",
       "      <td>0.737</td>\n",
       "      <td>1.391</td>\n",
       "      <td>0.0910</td>\n",
       "      <td>0.692</td>\n",
       "      <td>9185.105</td>\n",
       "      <td>50300.0</td>\n",
       "    </tr>\n",
       "  </tbody>\n",
       "</table>\n",
       "</div>"
      ],
      "text/plain": [
       "          index    kospi       dji    sp500   usdkrw  usdeur  usdcny    gold  \\\n",
       "3376 2020-04-30  1947.56  24345.72  2912.43  1212.94  0.9125  7.0600  1694.2   \n",
       "3377 2020-05-01  1947.56  23723.69  2830.71  1224.89  0.9105  7.0602  1700.9   \n",
       "3378 2020-05-02  1947.56  23723.69  2830.71  1224.89  0.9105  7.0602  1700.9   \n",
       "3379 2020-05-03  1947.56  23723.69  2830.71  1224.89  0.9105  7.0602  1700.9   \n",
       "3380 2020-05-04  1895.37  23749.76  2842.74  1224.14  0.9166  7.0622  1713.3   \n",
       "3381 2020-05-05  1895.37  23883.09  2868.44  1222.47  0.9227  7.0622  1710.6   \n",
       "3382 2020-05-06  1928.76  23664.64  2848.42  1228.55  0.9263  7.1031  1688.5   \n",
       "3383 2020-05-07  1928.61  23875.89  2881.19  1219.61  0.9228  7.0825  1725.8   \n",
       "3384 2020-05-08  1945.82  24331.32  2929.80  1219.65  0.9224  7.0732  1713.9   \n",
       "3385 2020-05-09  1945.82  24331.32  2929.80  1219.65  0.9224  7.0732  1713.9   \n",
       "3386 2020-05-10  1945.82  24331.32  2929.80  1219.65  0.9224  7.0732  1713.9   \n",
       "3387 2020-05-11  1935.40  24221.99  2930.32  1222.91  0.9251  7.0972  1698.0   \n",
       "3388 2020-05-12  1922.17  23764.78  2870.12  1226.64  0.9217  7.0816  1706.8   \n",
       "3389 2020-05-13  1940.42  23247.97  2820.00  1227.37  0.9243  7.0911  1716.4   \n",
       "3390 2020-05-14  1924.96  23625.34  2852.50  1227.03  0.9254  7.0935  1740.9   \n",
       "3391 2020-05-15  1927.28  23685.42  2863.70  1232.69  0.9245  7.1013  1756.3   \n",
       "3392 2020-05-16  1927.28  23685.42  2863.70  1232.69  0.9245  7.1013  1756.3   \n",
       "3393 2020-05-17  1927.28  23685.42  2863.70  1232.69  0.9245  7.1013  1756.3   \n",
       "3394 2020-05-18  1937.11  24597.37  2953.91  1225.13  0.9163  7.1086  1734.4   \n",
       "3395 2020-05-19  1980.61  24206.86  2922.94  1225.04  0.9153  7.0980  1745.6   \n",
       "\n",
       "      kr1yt  kr10yt   us1yt  us10yt    nasdaq      sse  \n",
       "3376  0.806   1.517  0.0890   0.646  8889.551  50000.0  \n",
       "3377  0.806   1.517  0.1010   0.618  8604.949  50000.0  \n",
       "3378  0.806   1.517  0.1010   0.618  8604.949  50000.0  \n",
       "3379  0.806   1.517  0.1014   0.618  8604.949  50000.0  \n",
       "3380  0.795   1.499  0.0940   0.631  8710.715  48500.0  \n",
       "3381  0.795   1.496  0.0940   0.662  8809.121  48500.0  \n",
       "3382  0.786   1.506  0.0860   0.709  8854.387  49200.0  \n",
       "3383  0.774   1.486  0.0840   0.639  8979.660  48800.0  \n",
       "3384  0.762   1.426  0.0960   0.685  9121.320  48800.0  \n",
       "3385  0.757   1.425  0.0960   0.685  9121.320  48800.0  \n",
       "3386  0.757   1.425  0.1267   0.693  9121.320  48800.0  \n",
       "3387  0.769   1.461  0.1010   0.707  9192.344  48400.0  \n",
       "3388  0.754   1.422  0.0990   0.667  9002.551  47900.0  \n",
       "3389  0.749   1.392  0.0860   0.654  8863.168  48550.0  \n",
       "3390  0.751   1.382  0.0840   0.617  8943.723  48000.0  \n",
       "3391  0.748   1.384  0.0940   0.644  9014.559  47850.0  \n",
       "3392  0.742   1.377  0.0940   0.644  9014.559  47850.0  \n",
       "3393  0.742   1.377  0.1217   0.643  9014.559  47850.0  \n",
       "3394  0.736   1.392  0.0910   0.726  9234.828  48800.0  \n",
       "3395  0.737   1.391  0.0910   0.692  9185.105  50300.0  "
      ]
     },
     "execution_count": 171,
     "metadata": {},
     "output_type": "execute_result"
    }
   ],
   "source": [
    "truncated_df.tail(20)"
   ]
  },
  {
   "cell_type": "code",
   "execution_count": 172,
   "metadata": {},
   "outputs": [
    {
     "data": {
      "text/plain": [
       "3378"
      ]
     },
     "execution_count": 172,
     "metadata": {},
     "output_type": "execute_result"
    }
   ],
   "source": [
    "split_index = truncated_df.index[(truncated_df['index'] == '2020-05-02')].tolist()[0]\n",
    "split_index"
   ]
  },
  {
   "cell_type": "code",
   "execution_count": 173,
   "metadata": {},
   "outputs": [],
   "source": [
    "truncated_df = truncated_df.drop('index', axis=1)"
   ]
  },
  {
   "cell_type": "code",
   "execution_count": 174,
   "metadata": {},
   "outputs": [],
   "source": [
    "# X_train, X_val, X_test = truncated_df[:int(len(truncated_df)*0.9)], \\\n",
    "#                          truncated_df[int(len(truncated_df)*0.9):2268], \\\n",
    "#                          truncated_df[2268:2278]\n",
    "\n",
    "X_train, X_test = truncated_df[:split_index], truncated_df[split_index:last_index]"
   ]
  },
  {
   "cell_type": "code",
   "execution_count": 175,
   "metadata": {},
   "outputs": [
    {
     "data": {
      "text/html": [
       "<div>\n",
       "<style scoped>\n",
       "    .dataframe tbody tr th:only-of-type {\n",
       "        vertical-align: middle;\n",
       "    }\n",
       "\n",
       "    .dataframe tbody tr th {\n",
       "        vertical-align: top;\n",
       "    }\n",
       "\n",
       "    .dataframe thead th {\n",
       "        text-align: right;\n",
       "    }\n",
       "</style>\n",
       "<table border=\"1\" class=\"dataframe\">\n",
       "  <thead>\n",
       "    <tr style=\"text-align: right;\">\n",
       "      <th></th>\n",
       "      <th>kospi</th>\n",
       "      <th>dji</th>\n",
       "      <th>sp500</th>\n",
       "      <th>usdkrw</th>\n",
       "      <th>usdeur</th>\n",
       "      <th>usdcny</th>\n",
       "      <th>gold</th>\n",
       "      <th>kr1yt</th>\n",
       "      <th>kr10yt</th>\n",
       "      <th>us1yt</th>\n",
       "      <th>us10yt</th>\n",
       "      <th>nasdaq</th>\n",
       "      <th>sse</th>\n",
       "    </tr>\n",
       "  </thead>\n",
       "  <tbody>\n",
       "    <tr>\n",
       "      <th>3390</th>\n",
       "      <td>1924.96</td>\n",
       "      <td>23625.34</td>\n",
       "      <td>2852.50</td>\n",
       "      <td>1227.03</td>\n",
       "      <td>0.9254</td>\n",
       "      <td>7.0935</td>\n",
       "      <td>1740.9</td>\n",
       "      <td>0.751</td>\n",
       "      <td>1.382</td>\n",
       "      <td>0.0840</td>\n",
       "      <td>0.617</td>\n",
       "      <td>8943.723</td>\n",
       "      <td>48000.0</td>\n",
       "    </tr>\n",
       "    <tr>\n",
       "      <th>3391</th>\n",
       "      <td>1927.28</td>\n",
       "      <td>23685.42</td>\n",
       "      <td>2863.70</td>\n",
       "      <td>1232.69</td>\n",
       "      <td>0.9245</td>\n",
       "      <td>7.1013</td>\n",
       "      <td>1756.3</td>\n",
       "      <td>0.748</td>\n",
       "      <td>1.384</td>\n",
       "      <td>0.0940</td>\n",
       "      <td>0.644</td>\n",
       "      <td>9014.559</td>\n",
       "      <td>47850.0</td>\n",
       "    </tr>\n",
       "    <tr>\n",
       "      <th>3392</th>\n",
       "      <td>1927.28</td>\n",
       "      <td>23685.42</td>\n",
       "      <td>2863.70</td>\n",
       "      <td>1232.69</td>\n",
       "      <td>0.9245</td>\n",
       "      <td>7.1013</td>\n",
       "      <td>1756.3</td>\n",
       "      <td>0.742</td>\n",
       "      <td>1.377</td>\n",
       "      <td>0.0940</td>\n",
       "      <td>0.644</td>\n",
       "      <td>9014.559</td>\n",
       "      <td>47850.0</td>\n",
       "    </tr>\n",
       "    <tr>\n",
       "      <th>3393</th>\n",
       "      <td>1927.28</td>\n",
       "      <td>23685.42</td>\n",
       "      <td>2863.70</td>\n",
       "      <td>1232.69</td>\n",
       "      <td>0.9245</td>\n",
       "      <td>7.1013</td>\n",
       "      <td>1756.3</td>\n",
       "      <td>0.742</td>\n",
       "      <td>1.377</td>\n",
       "      <td>0.1217</td>\n",
       "      <td>0.643</td>\n",
       "      <td>9014.559</td>\n",
       "      <td>47850.0</td>\n",
       "    </tr>\n",
       "    <tr>\n",
       "      <th>3394</th>\n",
       "      <td>1937.11</td>\n",
       "      <td>24597.37</td>\n",
       "      <td>2953.91</td>\n",
       "      <td>1225.13</td>\n",
       "      <td>0.9163</td>\n",
       "      <td>7.1086</td>\n",
       "      <td>1734.4</td>\n",
       "      <td>0.736</td>\n",
       "      <td>1.392</td>\n",
       "      <td>0.0910</td>\n",
       "      <td>0.726</td>\n",
       "      <td>9234.828</td>\n",
       "      <td>48800.0</td>\n",
       "    </tr>\n",
       "  </tbody>\n",
       "</table>\n",
       "</div>"
      ],
      "text/plain": [
       "        kospi       dji    sp500   usdkrw  usdeur  usdcny    gold  kr1yt  \\\n",
       "3390  1924.96  23625.34  2852.50  1227.03  0.9254  7.0935  1740.9  0.751   \n",
       "3391  1927.28  23685.42  2863.70  1232.69  0.9245  7.1013  1756.3  0.748   \n",
       "3392  1927.28  23685.42  2863.70  1232.69  0.9245  7.1013  1756.3  0.742   \n",
       "3393  1927.28  23685.42  2863.70  1232.69  0.9245  7.1013  1756.3  0.742   \n",
       "3394  1937.11  24597.37  2953.91  1225.13  0.9163  7.1086  1734.4  0.736   \n",
       "\n",
       "      kr10yt   us1yt  us10yt    nasdaq      sse  \n",
       "3390   1.382  0.0840   0.617  8943.723  48000.0  \n",
       "3391   1.384  0.0940   0.644  9014.559  47850.0  \n",
       "3392   1.377  0.0940   0.644  9014.559  47850.0  \n",
       "3393   1.377  0.1217   0.643  9014.559  47850.0  \n",
       "3394   1.392  0.0910   0.726  9234.828  48800.0  "
      ]
     },
     "execution_count": 175,
     "metadata": {},
     "output_type": "execute_result"
    }
   ],
   "source": [
    "X_test.tail()"
   ]
  },
  {
   "cell_type": "code",
   "execution_count": 176,
   "metadata": {},
   "outputs": [
    {
     "name": "stdout",
     "output_type": "stream",
     "text": [
      "(3378, 13) (17, 13)\n"
     ]
    }
   ],
   "source": [
    "print(X_train.shape, X_test.shape)"
   ]
  },
  {
   "cell_type": "code",
   "execution_count": 177,
   "metadata": {},
   "outputs": [],
   "source": [
    "y_train, y_test = truncated_df[['kospi']][1:split_index+1], \\\n",
    "                  truncated_df[['kospi']][split_index+1:]"
   ]
  },
  {
   "cell_type": "code",
   "execution_count": 178,
   "metadata": {},
   "outputs": [
    {
     "data": {
      "text/html": [
       "<div>\n",
       "<style scoped>\n",
       "    .dataframe tbody tr th:only-of-type {\n",
       "        vertical-align: middle;\n",
       "    }\n",
       "\n",
       "    .dataframe tbody tr th {\n",
       "        vertical-align: top;\n",
       "    }\n",
       "\n",
       "    .dataframe thead th {\n",
       "        text-align: right;\n",
       "    }\n",
       "</style>\n",
       "<table border=\"1\" class=\"dataframe\">\n",
       "  <thead>\n",
       "    <tr style=\"text-align: right;\">\n",
       "      <th></th>\n",
       "      <th>kospi</th>\n",
       "    </tr>\n",
       "  </thead>\n",
       "  <tbody>\n",
       "    <tr>\n",
       "      <th>3391</th>\n",
       "      <td>1927.28</td>\n",
       "    </tr>\n",
       "    <tr>\n",
       "      <th>3392</th>\n",
       "      <td>1927.28</td>\n",
       "    </tr>\n",
       "    <tr>\n",
       "      <th>3393</th>\n",
       "      <td>1927.28</td>\n",
       "    </tr>\n",
       "    <tr>\n",
       "      <th>3394</th>\n",
       "      <td>1937.11</td>\n",
       "    </tr>\n",
       "    <tr>\n",
       "      <th>3395</th>\n",
       "      <td>1980.61</td>\n",
       "    </tr>\n",
       "  </tbody>\n",
       "</table>\n",
       "</div>"
      ],
      "text/plain": [
       "        kospi\n",
       "3391  1927.28\n",
       "3392  1927.28\n",
       "3393  1927.28\n",
       "3394  1937.11\n",
       "3395  1980.61"
      ]
     },
     "execution_count": 178,
     "metadata": {},
     "output_type": "execute_result"
    }
   ],
   "source": [
    "y_test.tail()"
   ]
  },
  {
   "cell_type": "code",
   "execution_count": 179,
   "metadata": {},
   "outputs": [
    {
     "name": "stdout",
     "output_type": "stream",
     "text": [
      "(3378, 1) (17, 1)\n"
     ]
    }
   ],
   "source": [
    "print(y_train.shape, y_test.shape)"
   ]
  },
  {
   "cell_type": "code",
   "execution_count": 180,
   "metadata": {},
   "outputs": [],
   "source": [
    "# Backup data\n",
    "\n",
    "file_name = 'truncated_df.xlsx'\n",
    "truncated_df.to_excel(file_name)"
   ]
  },
  {
   "cell_type": "markdown",
   "metadata": {},
   "source": [
    "### 2-2 Normalization"
   ]
  },
  {
   "cell_type": "code",
   "execution_count": 181,
   "metadata": {},
   "outputs": [],
   "source": [
    "from sklearn.preprocessing import MinMaxScaler"
   ]
  },
  {
   "cell_type": "code",
   "execution_count": 182,
   "metadata": {},
   "outputs": [],
   "source": [
    "minMaxScaler = MinMaxScaler()\n",
    "minMaxScaler.fit(X_train)\n",
    "scaled_X_train = minMaxScaler.transform(X_train)"
   ]
  },
  {
   "cell_type": "code",
   "execution_count": 183,
   "metadata": {},
   "outputs": [],
   "source": [
    "scaled_X_test = minMaxScaler.transform(X_test)"
   ]
  },
  {
   "cell_type": "markdown",
   "metadata": {},
   "source": [
    "#### 3. Learning"
   ]
  },
  {
   "cell_type": "markdown",
   "metadata": {},
   "source": [
    "- 3-1) XGBoost"
   ]
  },
  {
   "cell_type": "code",
   "execution_count": 184,
   "metadata": {},
   "outputs": [],
   "source": [
    "import xgboost\n",
    "import math\n",
    "from sklearn.metrics import mean_squared_error"
   ]
  },
  {
   "cell_type": "code",
   "execution_count": 185,
   "metadata": {},
   "outputs": [],
   "source": [
    "xgb_model = xgboost.XGBRegressor(n_estimators=100, learning_rate=0.08, gamma=0, subsample=0.75,\n",
    "                           colsample_bytree=1, max_depth=7)"
   ]
  },
  {
   "cell_type": "code",
   "execution_count": 186,
   "metadata": {},
   "outputs": [
    {
     "data": {
      "text/plain": [
       "XGBRegressor(base_score=0.5, booster='gbtree', callbacks=None,\n",
       "             colsample_bylevel=1, colsample_bynode=1, colsample_bytree=1,\n",
       "             early_stopping_rounds=None, enable_categorical=False,\n",
       "             eval_metric=None, gamma=0, gpu_id=-1, grow_policy='depthwise',\n",
       "             importance_type=None, interaction_constraints='',\n",
       "             learning_rate=0.08, max_bin=256, max_cat_to_onehot=4,\n",
       "             max_delta_step=0, max_depth=7, max_leaves=0, min_child_weight=1,\n",
       "             missing=nan, monotone_constraints='()', n_estimators=100, n_jobs=0,\n",
       "             num_parallel_tree=1, predictor='auto', random_state=0, reg_alpha=0,\n",
       "             reg_lambda=1, ...)"
      ]
     },
     "execution_count": 186,
     "metadata": {},
     "output_type": "execute_result"
    }
   ],
   "source": [
    "xgb_model.fit(X_train, y_train)"
   ]
  },
  {
   "cell_type": "code",
   "execution_count": 187,
   "metadata": {},
   "outputs": [
    {
     "data": {
      "text/plain": [
       "<AxesSubplot:title={'center':'Feature importance'}, xlabel='F score', ylabel='Features'>"
      ]
     },
     "execution_count": 187,
     "metadata": {},
     "output_type": "execute_result"
    },
    {
     "data": {
      "image/png": "[encoded data removed]",
      "text/plain": [
       "<Figure size 432x288 with 1 Axes>"
      ]
     },
     "metadata": {
      "needs_background": "light"
     },
     "output_type": "display_data"
    }
   ],
   "source": [
    "xgboost.plot_importance(xgb_model)"
   ]
  },
  {
   "cell_type": "code",
   "execution_count": 188,
   "metadata": {},
   "outputs": [
    {
     "data": {
      "text/plain": [
       "array([1948.4064, 1948.4064, 1895.4456, 1895.4045, 1936.9751, 1937.7408,\n",
       "       1945.7427, 1945.7427, 1945.7427, 1942.9784, 1928.809 , 1952.2196,\n",
       "       1933.087 , 1938.4053, 1938.4053, 1939.7557, 1950.1633],\n",
       "      dtype=float32)"
      ]
     },
     "execution_count": 188,
     "metadata": {},
     "output_type": "execute_result"
    }
   ],
   "source": [
    "predictions = xgb_model.predict(X_test)\n",
    "predictions"
   ]
  },
  {
   "cell_type": "code",
   "execution_count": 189,
   "metadata": {},
   "outputs": [
    {
     "name": "stdout",
     "output_type": "stream",
     "text": [
      "mse : 393.79718954187854\n",
      "rmse : 19.84432386204878\n"
     ]
    }
   ],
   "source": [
    "mse = mean_squared_error(y_test, predictions)\n",
    "print('mse :', mse)\n",
    "print('rmse :', math.sqrt(mse))"
   ]
  },
  {
   "cell_type": "code",
   "execution_count": 190,
   "metadata": {},
   "outputs": [
    {
     "data": {
      "text/plain": [
       "XGBRegressor(base_score=0.5, booster='gbtree', callbacks=None,\n",
       "             colsample_bylevel=1, colsample_bynode=1, colsample_bytree=1,\n",
       "             early_stopping_rounds=None, enable_categorical=False,\n",
       "             eval_metric=None, gamma=0, gpu_id=-1, grow_policy='depthwise',\n",
       "             importance_type=None, interaction_constraints='',\n",
       "             learning_rate=0.08, max_bin=256, max_cat_to_onehot=4,\n",
       "             max_delta_step=0, max_depth=7, max_leaves=0, min_child_weight=1,\n",
       "             missing=nan, monotone_constraints='()', n_estimators=100, n_jobs=0,\n",
       "             num_parallel_tree=1, predictor='auto', random_state=0, reg_alpha=0,\n",
       "             reg_lambda=1, ...)"
      ]
     },
     "execution_count": 190,
     "metadata": {},
     "output_type": "execute_result"
    }
   ],
   "source": [
    "xgb_model.fit(scaled_X_train, y_train)"
   ]
  },
  {
   "cell_type": "code",
   "execution_count": 191,
   "metadata": {},
   "outputs": [
    {
     "data": {
      "text/plain": [
       "array([1948.4064, 1948.4064, 1895.4456, 1895.4045, 1936.9751, 1937.7408,\n",
       "       1945.7427, 1945.7427, 1945.7427, 1942.9784, 1928.809 , 1952.2196,\n",
       "       1933.087 , 1938.4053, 1938.4053, 1939.7557, 1950.1633],\n",
       "      dtype=float32)"
      ]
     },
     "execution_count": 191,
     "metadata": {},
     "output_type": "execute_result"
    }
   ],
   "source": [
    "predictions = xgb_model.predict(scaled_X_test)\n",
    "predictions"
   ]
  },
  {
   "cell_type": "code",
   "execution_count": 192,
   "metadata": {},
   "outputs": [
    {
     "name": "stdout",
     "output_type": "stream",
     "text": [
      "mse : 393.79718954187854\n",
      "rmse : 19.84432386204878\n"
     ]
    }
   ],
   "source": [
    "mse = mean_squared_error(y_test, predictions)\n",
    "print('mse :', mse)\n",
    "print('rmse :', math.sqrt(mse))"
   ]
  },
  {
   "cell_type": "markdown",
   "metadata": {},
   "source": [
    "- 3-2) XGBRegressor with GridSearchCV"
   ]
  },
  {
   "cell_type": "code",
   "execution_count": 193,
   "metadata": {},
   "outputs": [],
   "source": [
    "from xgboost.sklearn import XGBRegressor\n",
    "from sklearn.model_selection import GridSearchCV"
   ]
  },
  {
   "cell_type": "code",
   "execution_count": 194,
   "metadata": {},
   "outputs": [
    {
     "name": "stdout",
     "output_type": "stream",
     "text": [
      "Fitting 2 folds for each of 225 candidates, totalling 450 fits\n"
     ]
    },
    {
     "data": {
      "text/plain": [
       "GridSearchCV(cv=2,\n",
       "             estimator=XGBRegressor(base_score=None, booster=None,\n",
       "                                    callbacks=None, colsample_bylevel=None,\n",
       "                                    colsample_bynode=None,\n",
       "                                    colsample_bytree=None,\n",
       "                                    early_stopping_rounds=None,\n",
       "                                    enable_categorical=False, eval_metric=None,\n",
       "                                    gamma=None, gpu_id=None, grow_policy=None,\n",
       "                                    importance_type=None,\n",
       "                                    interaction_constraints=None,\n",
       "                                    learning_rate=None, max_bin=None,\n",
       "                                    max_cat...\n",
       "                                    monotone_constraints=None, n_estimators=100,\n",
       "                                    n_jobs=None, num_parallel_tree=None,\n",
       "                                    predictor=None, random_state=None,\n",
       "                                    reg_alpha=None, reg_lambda=None, ...),\n",
       "             n_jobs=5,\n",
       "             param_grid={'colsample_bytree': [0.7],\n",
       "                         'learning_rate': [0.01, 0.03, 0.05, 0.07, 0.09],\n",
       "                         'max_depth': [3, 4, 5, 6, 7],\n",
       "                         'min_child_weight': [3, 4, 5],\n",
       "                         'n_estimators': [100, 300, 500], 'nthread': [3],\n",
       "                         'subsample': [0.7]},\n",
       "             verbose=True)"
      ]
     },
     "execution_count": 194,
     "metadata": {},
     "output_type": "execute_result"
    }
   ],
   "source": [
    "# Various hyper-parameters to tune\n",
    "\n",
    "xgb1 = XGBRegressor()\n",
    "parameters = {'nthread':[3], # when use hyperthread, xgboost may become slower\n",
    "              'learning_rate': [0.01, 0.03, 0.05, 0.07, 0.09],\n",
    "              'max_depth': [3, 4, 5, 6, 7],\n",
    "              'min_child_weight': [3, 4, 5],\n",
    "              'subsample': [0.7],\n",
    "              'colsample_bytree': [0.7],\n",
    "              'n_estimators': [100, 300, 500]}\n",
    "\n",
    "xgb_grid = GridSearchCV(xgb1,\n",
    "                        parameters,\n",
    "                        cv = 2,\n",
    "                        n_jobs = 5,\n",
    "                        verbose=True)\n",
    "\n",
    "xgb_grid.fit(X_train, y_train)"
   ]
  },
  {
   "cell_type": "code",
   "execution_count": 195,
   "metadata": {},
   "outputs": [
    {
     "name": "stdout",
     "output_type": "stream",
     "text": [
      "0.6687807338745266\n",
      "{'colsample_bytree': 0.7, 'learning_rate': 0.09, 'max_depth': 3, 'min_child_weight': 4, 'n_estimators': 500, 'nthread': 3, 'subsample': 0.7}\n"
     ]
    }
   ],
   "source": [
    "print(xgb_grid.best_score_)\n",
    "print(xgb_grid.best_params_)"
   ]
  },
  {
   "cell_type": "code",
   "execution_count": 196,
   "metadata": {},
   "outputs": [
    {
     "data": {
      "text/plain": [
       "array([1946.4404, 1946.4404, 1900.9315, 1904.6732, 1951.8751, 1945.666 ,\n",
       "       1958.4878, 1958.4878, 1959.6489, 1965.9458, 1939.7062, 1959.2467,\n",
       "       1942.8761, 1956.902 , 1956.0214, 1957.0908, 1961.0247],\n",
       "      dtype=float32)"
      ]
     },
     "execution_count": 196,
     "metadata": {},
     "output_type": "execute_result"
    }
   ],
   "source": [
    "predictions = xgb_grid.predict(X_test)\n",
    "predictions"
   ]
  },
  {
   "cell_type": "code",
   "execution_count": 197,
   "metadata": {},
   "outputs": [
    {
     "name": "stdout",
     "output_type": "stream",
     "text": [
      "mse : 617.2226276693967\n",
      "rmse : 24.843965618825766\n"
     ]
    }
   ],
   "source": [
    "mse = mean_squared_error(y_test, predictions)\n",
    "print('mse :', mse)\n",
    "print('rmse :', math.sqrt(mse))"
   ]
  },
  {
   "cell_type": "code",
   "execution_count": 198,
   "metadata": {},
   "outputs": [
    {
     "name": "stdout",
     "output_type": "stream",
     "text": [
      "Fitting 2 folds for each of 225 candidates, totalling 450 fits\n"
     ]
    },
    {
     "data": {
      "text/plain": [
       "GridSearchCV(cv=2,\n",
       "             estimator=XGBRegressor(base_score=None, booster=None,\n",
       "                                    callbacks=None, colsample_bylevel=None,\n",
       "                                    colsample_bynode=None,\n",
       "                                    colsample_bytree=None,\n",
       "                                    early_stopping_rounds=None,\n",
       "                                    enable_categorical=False, eval_metric=None,\n",
       "                                    gamma=None, gpu_id=None, grow_policy=None,\n",
       "                                    importance_type=None,\n",
       "                                    interaction_constraints=None,\n",
       "                                    learning_rate=None, max_bin=None,\n",
       "                                    max_cat...\n",
       "                                    monotone_constraints=None, n_estimators=100,\n",
       "                                    n_jobs=None, num_parallel_tree=None,\n",
       "                                    predictor=None, random_state=None,\n",
       "                                    reg_alpha=None, reg_lambda=None, ...),\n",
       "             n_jobs=5,\n",
       "             param_grid={'colsample_bytree': [0.7],\n",
       "                         'learning_rate': [0.01, 0.03, 0.05, 0.07, 0.09],\n",
       "                         'max_depth': [3, 4, 5, 6, 7],\n",
       "                         'min_child_weight': [3, 4, 5],\n",
       "                         'n_estimators': [100, 300, 500], 'nthread': [3],\n",
       "                         'subsample': [0.7]},\n",
       "             verbose=True)"
      ]
     },
     "execution_count": 198,
     "metadata": {},
     "output_type": "execute_result"
    }
   ],
   "source": [
    "xgb_grid.fit(scaled_X_train, y_train)"
   ]
  },
  {
   "cell_type": "code",
   "execution_count": 199,
   "metadata": {},
   "outputs": [
    {
     "data": {
      "text/plain": [
       "array([1950.8118, 1950.8118, 1899.3528, 1905.3301, 1948.7778, 1943.6339,\n",
       "       1959.1732, 1959.1732, 1961.9503, 1960.5734, 1937.3267, 1956.2965,\n",
       "       1941.4552, 1952.5127, 1950.0066, 1950.0468, 1953.2429],\n",
       "      dtype=float32)"
      ]
     },
     "execution_count": 199,
     "metadata": {},
     "output_type": "execute_result"
    }
   ],
   "source": [
    "predictions = xgb_grid.predict(scaled_X_test)\n",
    "predictions"
   ]
  },
  {
   "cell_type": "code",
   "execution_count": 200,
   "metadata": {},
   "outputs": [
    {
     "name": "stdout",
     "output_type": "stream",
     "text": [
      "mse : 579.9439870098399\n",
      "rmse : 24.0820262230951\n"
     ]
    }
   ],
   "source": [
    "mse = mean_squared_error(y_test, predictions)\n",
    "print('mse :', mse)\n",
    "print('rmse :', math.sqrt(mse))"
   ]
  },
  {
   "cell_type": "markdown",
   "metadata": {},
   "source": [
    "- 3-3) LSTM"
   ]
  },
  {
   "cell_type": "code",
   "execution_count": 201,
   "metadata": {},
   "outputs": [],
   "source": [
    "from sklearn.model_selection import train_test_split\n",
    "from sklearn.preprocessing import MinMaxScaler"
   ]
  },
  {
   "cell_type": "code",
   "execution_count": 202,
   "metadata": {},
   "outputs": [
    {
     "data": {
      "text/plain": [
       "array([[0.20910964, 0.04517909, 0.04671323, ..., 0.95212156, 0.0280413 ,\n",
       "        0.05286885],\n",
       "       [0.20426987, 0.04457804, 0.04820674, ..., 0.93491972, 0.02807884,\n",
       "        0.05819672],\n",
       "       [0.21715839, 0.0446616 , 0.04846905, ..., 0.95384174, 0.02709248,\n",
       "        0.06598361],\n",
       "       ...,\n",
       "       [0.41176625, 0.70470588, 0.77895726, ..., 0.04042431, 0.89610609,\n",
       "        0.70184426],\n",
       "       [0.4203849 , 0.75061339, 0.8171241 , ..., 0.06422018, 0.92461843,\n",
       "        0.72131148],\n",
       "       [0.4585244 , 0.73095514, 0.80402104, ..., 0.05447248, 0.91818212,\n",
       "        0.75204918]])"
      ]
     },
     "execution_count": 202,
     "metadata": {},
     "output_type": "execute_result"
    }
   ],
   "source": [
    "scaler = MinMaxScaler()\n",
    "# 스케일을 적용할 column을 정의합니다.\n",
    "scale_cols = truncated_df.columns.tolist()\n",
    "\n",
    "# 스케일 후 columns\n",
    "scaled = scaler.fit_transform(truncated_df)\n",
    "scaled"
   ]
  },
  {
   "cell_type": "code",
   "execution_count": 203,
   "metadata": {},
   "outputs": [],
   "source": [
    "df = pd.DataFrame(scaled, columns=scale_cols)"
   ]
  },
  {
   "cell_type": "code",
   "execution_count": 204,
   "metadata": {},
   "outputs": [],
   "source": [
    "# # Normalization 미적용\n",
    "\n",
    "# df = truncated_df.copy()\n",
    "# df"
   ]
  },
  {
   "cell_type": "code",
   "execution_count": 205,
   "metadata": {},
   "outputs": [],
   "source": [
    "X_train, X_test, y_train, y_test = train_test_split(df, \\\n",
    "    df['kospi'], test_size=0.2, random_state=0, shuffle=False)"
   ]
  },
  {
   "cell_type": "code",
   "execution_count": 206,
   "metadata": {},
   "outputs": [
    {
     "data": {
      "text/plain": [
       "((2716, 13), (2716,))"
      ]
     },
     "execution_count": 206,
     "metadata": {},
     "output_type": "execute_result"
    }
   ],
   "source": [
    "X_train.shape, y_train.shape"
   ]
  },
  {
   "cell_type": "code",
   "execution_count": 207,
   "metadata": {},
   "outputs": [
    {
     "data": {
      "text/plain": [
       "((680, 13), (680,))"
      ]
     },
     "execution_count": 207,
     "metadata": {},
     "output_type": "execute_result"
    }
   ],
   "source": [
    "X_test.shape, y_test.shape"
   ]
  },
  {
   "cell_type": "code",
   "execution_count": 208,
   "metadata": {},
   "outputs": [
    {
     "data": {
      "text/html": [
       "<div>\n",
       "<style scoped>\n",
       "    .dataframe tbody tr th:only-of-type {\n",
       "        vertical-align: middle;\n",
       "    }\n",
       "\n",
       "    .dataframe tbody tr th {\n",
       "        vertical-align: top;\n",
       "    }\n",
       "\n",
       "    .dataframe thead th {\n",
       "        text-align: right;\n",
       "    }\n",
       "</style>\n",
       "<table border=\"1\" class=\"dataframe\">\n",
       "  <thead>\n",
       "    <tr style=\"text-align: right;\">\n",
       "      <th></th>\n",
       "      <th>kospi</th>\n",
       "      <th>dji</th>\n",
       "      <th>sp500</th>\n",
       "      <th>usdkrw</th>\n",
       "      <th>usdeur</th>\n",
       "      <th>usdcny</th>\n",
       "      <th>gold</th>\n",
       "      <th>kr1yt</th>\n",
       "      <th>kr10yt</th>\n",
       "      <th>us1yt</th>\n",
       "      <th>us10yt</th>\n",
       "      <th>nasdaq</th>\n",
       "      <th>sse</th>\n",
       "    </tr>\n",
       "  </thead>\n",
       "  <tbody>\n",
       "    <tr>\n",
       "      <th>0</th>\n",
       "      <td>0.209110</td>\n",
       "      <td>0.045179</td>\n",
       "      <td>0.046713</td>\n",
       "      <td>0.534663</td>\n",
       "      <td>0.066944</td>\n",
       "      <td>0.692193</td>\n",
       "      <td>0.081049</td>\n",
       "      <td>0.906005</td>\n",
       "      <td>1.000000</td>\n",
       "      <td>0.034469</td>\n",
       "      <td>0.952122</td>\n",
       "      <td>0.028041</td>\n",
       "      <td>0.052869</td>\n",
       "    </tr>\n",
       "    <tr>\n",
       "      <th>1</th>\n",
       "      <td>0.204270</td>\n",
       "      <td>0.044578</td>\n",
       "      <td>0.048207</td>\n",
       "      <td>0.497436</td>\n",
       "      <td>0.074922</td>\n",
       "      <td>0.690698</td>\n",
       "      <td>0.081526</td>\n",
       "      <td>0.906005</td>\n",
       "      <td>0.988930</td>\n",
       "      <td>0.030507</td>\n",
       "      <td>0.934920</td>\n",
       "      <td>0.028079</td>\n",
       "      <td>0.058197</td>\n",
       "    </tr>\n",
       "    <tr>\n",
       "      <th>2</th>\n",
       "      <td>0.217158</td>\n",
       "      <td>0.044662</td>\n",
       "      <td>0.048469</td>\n",
       "      <td>0.455651</td>\n",
       "      <td>0.067291</td>\n",
       "      <td>0.691577</td>\n",
       "      <td>0.102741</td>\n",
       "      <td>0.898172</td>\n",
       "      <td>0.992620</td>\n",
       "      <td>0.026149</td>\n",
       "      <td>0.953842</td>\n",
       "      <td>0.027092</td>\n",
       "      <td>0.065984</td>\n",
       "    </tr>\n",
       "    <tr>\n",
       "      <th>3</th>\n",
       "      <td>0.197983</td>\n",
       "      <td>0.046332</td>\n",
       "      <td>0.050394</td>\n",
       "      <td>0.489839</td>\n",
       "      <td>0.083593</td>\n",
       "      <td>0.691841</td>\n",
       "      <td>0.099404</td>\n",
       "      <td>0.895561</td>\n",
       "      <td>0.977860</td>\n",
       "      <td>0.024168</td>\n",
       "      <td>0.953268</td>\n",
       "      <td>0.026958</td>\n",
       "      <td>0.054508</td>\n",
       "    </tr>\n",
       "    <tr>\n",
       "      <th>4</th>\n",
       "      <td>0.208338</td>\n",
       "      <td>0.046902</td>\n",
       "      <td>0.051786</td>\n",
       "      <td>0.452042</td>\n",
       "      <td>0.066944</td>\n",
       "      <td>0.691401</td>\n",
       "      <td>0.105483</td>\n",
       "      <td>0.874674</td>\n",
       "      <td>0.983395</td>\n",
       "      <td>0.024168</td>\n",
       "      <td>0.955849</td>\n",
       "      <td>0.029174</td>\n",
       "      <td>0.057787</td>\n",
       "    </tr>\n",
       "    <tr>\n",
       "      <th>...</th>\n",
       "      <td>...</td>\n",
       "      <td>...</td>\n",
       "      <td>...</td>\n",
       "      <td>...</td>\n",
       "      <td>...</td>\n",
       "      <td>...</td>\n",
       "      <td>...</td>\n",
       "      <td>...</td>\n",
       "      <td>...</td>\n",
       "      <td>...</td>\n",
       "      <td>...</td>\n",
       "      <td>...</td>\n",
       "      <td>...</td>\n",
       "    </tr>\n",
       "    <tr>\n",
       "      <th>2711</th>\n",
       "      <td>0.761466</td>\n",
       "      <td>0.734205</td>\n",
       "      <td>0.717470</td>\n",
       "      <td>0.401861</td>\n",
       "      <td>0.629206</td>\n",
       "      <td>0.509759</td>\n",
       "      <td>0.244100</td>\n",
       "      <td>0.481723</td>\n",
       "      <td>0.471402</td>\n",
       "      <td>0.713154</td>\n",
       "      <td>0.676032</td>\n",
       "      <td>0.701390</td>\n",
       "      <td>0.677254</td>\n",
       "    </tr>\n",
       "    <tr>\n",
       "      <th>2712</th>\n",
       "      <td>0.761466</td>\n",
       "      <td>0.734205</td>\n",
       "      <td>0.717470</td>\n",
       "      <td>0.401861</td>\n",
       "      <td>0.629206</td>\n",
       "      <td>0.509759</td>\n",
       "      <td>0.244100</td>\n",
       "      <td>0.481723</td>\n",
       "      <td>0.471402</td>\n",
       "      <td>0.713154</td>\n",
       "      <td>0.676032</td>\n",
       "      <td>0.701390</td>\n",
       "      <td>0.677254</td>\n",
       "    </tr>\n",
       "    <tr>\n",
       "      <th>2713</th>\n",
       "      <td>0.761466</td>\n",
       "      <td>0.734205</td>\n",
       "      <td>0.717470</td>\n",
       "      <td>0.401861</td>\n",
       "      <td>0.629206</td>\n",
       "      <td>0.509759</td>\n",
       "      <td>0.244100</td>\n",
       "      <td>0.481723</td>\n",
       "      <td>0.471402</td>\n",
       "      <td>0.709984</td>\n",
       "      <td>0.674885</td>\n",
       "      <td>0.701390</td>\n",
       "      <td>0.677254</td>\n",
       "    </tr>\n",
       "    <tr>\n",
       "      <th>2714</th>\n",
       "      <td>0.713603</td>\n",
       "      <td>0.736005</td>\n",
       "      <td>0.720998</td>\n",
       "      <td>0.416448</td>\n",
       "      <td>0.640652</td>\n",
       "      <td>0.551081</td>\n",
       "      <td>0.228844</td>\n",
       "      <td>0.481723</td>\n",
       "      <td>0.466974</td>\n",
       "      <td>0.755151</td>\n",
       "      <td>0.679186</td>\n",
       "      <td>0.708818</td>\n",
       "      <td>0.654713</td>\n",
       "    </tr>\n",
       "    <tr>\n",
       "      <th>2715</th>\n",
       "      <td>0.714673</td>\n",
       "      <td>0.729342</td>\n",
       "      <td>0.715291</td>\n",
       "      <td>0.401671</td>\n",
       "      <td>0.636490</td>\n",
       "      <td>0.528662</td>\n",
       "      <td>0.242908</td>\n",
       "      <td>0.484334</td>\n",
       "      <td>0.475461</td>\n",
       "      <td>0.772583</td>\n",
       "      <td>0.668291</td>\n",
       "      <td>0.700402</td>\n",
       "      <td>0.667008</td>\n",
       "    </tr>\n",
       "  </tbody>\n",
       "</table>\n",
       "<p>2716 rows × 13 columns</p>\n",
       "</div>"
      ],
      "text/plain": [
       "         kospi       dji     sp500    usdkrw    usdeur    usdcny      gold  \\\n",
       "0     0.209110  0.045179  0.046713  0.534663  0.066944  0.692193  0.081049   \n",
       "1     0.204270  0.044578  0.048207  0.497436  0.074922  0.690698  0.081526   \n",
       "2     0.217158  0.044662  0.048469  0.455651  0.067291  0.691577  0.102741   \n",
       "3     0.197983  0.046332  0.050394  0.489839  0.083593  0.691841  0.099404   \n",
       "4     0.208338  0.046902  0.051786  0.452042  0.066944  0.691401  0.105483   \n",
       "...        ...       ...       ...       ...       ...       ...       ...   \n",
       "2711  0.761466  0.734205  0.717470  0.401861  0.629206  0.509759  0.244100   \n",
       "2712  0.761466  0.734205  0.717470  0.401861  0.629206  0.509759  0.244100   \n",
       "2713  0.761466  0.734205  0.717470  0.401861  0.629206  0.509759  0.244100   \n",
       "2714  0.713603  0.736005  0.720998  0.416448  0.640652  0.551081  0.228844   \n",
       "2715  0.714673  0.729342  0.715291  0.401671  0.636490  0.528662  0.242908   \n",
       "\n",
       "         kr1yt    kr10yt     us1yt    us10yt    nasdaq       sse  \n",
       "0     0.906005  1.000000  0.034469  0.952122  0.028041  0.052869  \n",
       "1     0.906005  0.988930  0.030507  0.934920  0.028079  0.058197  \n",
       "2     0.898172  0.992620  0.026149  0.953842  0.027092  0.065984  \n",
       "3     0.895561  0.977860  0.024168  0.953268  0.026958  0.054508  \n",
       "4     0.874674  0.983395  0.024168  0.955849  0.029174  0.057787  \n",
       "...        ...       ...       ...       ...       ...       ...  \n",
       "2711  0.481723  0.471402  0.713154  0.676032  0.701390  0.677254  \n",
       "2712  0.481723  0.471402  0.713154  0.676032  0.701390  0.677254  \n",
       "2713  0.481723  0.471402  0.709984  0.674885  0.701390  0.677254  \n",
       "2714  0.481723  0.466974  0.755151  0.679186  0.708818  0.654713  \n",
       "2715  0.484334  0.475461  0.772583  0.668291  0.700402  0.667008  \n",
       "\n",
       "[2716 rows x 13 columns]"
      ]
     },
     "execution_count": 208,
     "metadata": {},
     "output_type": "execute_result"
    }
   ],
   "source": [
    "X_train"
   ]
  },
  {
   "cell_type": "code",
   "execution_count": 209,
   "metadata": {},
   "outputs": [],
   "source": [
    "import tensorflow as tf"
   ]
  },
  {
   "cell_type": "markdown",
   "metadata": {},
   "source": [
    "https://webnautes.tistory.com/1527"
   ]
  },
  {
   "cell_type": "code",
   "execution_count": 210,
   "metadata": {},
   "outputs": [],
   "source": [
    "def windowed_dataset(series, window_size, batch_size, shuffle):\n",
    "    series = tf.expand_dims(series, axis=-1)\n",
    "    ds = tf.data.Dataset.from_tensor_slices(series)\n",
    "    ds = ds.window(window_size + 1, shift=7, drop_remainder=True)\n",
    "    ds = ds.flat_map(lambda w: w.batch(window_size + 1))\n",
    "    if shuffle:\n",
    "        ds = ds.shuffle(1000)\n",
    "    ds = ds.map(lambda w: (w[:-1], w[-1]))\n",
    "    return ds.batch(batch_size).prefetch(1)"
   ]
  },
  {
   "cell_type": "code",
   "execution_count": 211,
   "metadata": {},
   "outputs": [],
   "source": [
    "WINDOW_SIZE = 20\n",
    "BATCH_SIZE = 32"
   ]
  },
  {
   "cell_type": "code",
   "execution_count": 212,
   "metadata": {},
   "outputs": [],
   "source": [
    "train_data = windowed_dataset(y_train, WINDOW_SIZE, BATCH_SIZE, True)\n",
    "test_data = windowed_dataset(y_test, WINDOW_SIZE, BATCH_SIZE, False)"
   ]
  },
  {
   "cell_type": "code",
   "execution_count": 213,
   "metadata": {},
   "outputs": [
    {
     "name": "stdout",
     "output_type": "stream",
     "text": [
      "데이터셋(X) 구성(batch_size, window_size, feature갯수): (32, 20, 1)\n",
      "데이터셋(Y) 구성(batch_size, window_size, feature갯수): (32, 1)\n"
     ]
    }
   ],
   "source": [
    "for data in train_data.take(1):\n",
    "    print(f'데이터셋(X) 구성(batch_size, window_size, feature갯수): {data[0].shape}')\n",
    "    print(f'데이터셋(Y) 구성(batch_size, window_size, feature갯수): {data[1].shape}')"
   ]
  },
  {
   "cell_type": "code",
   "execution_count": 214,
   "metadata": {},
   "outputs": [],
   "source": [
    "from tensorflow.keras.models import Sequential\n",
    "from tensorflow.keras.layers import Dense, LSTM, Conv1D, Lambda\n",
    "from tensorflow.keras.losses import Huber\n",
    "from tensorflow.keras.optimizers import Adam\n",
    "from tensorflow.keras.callbacks import EarlyStopping, ModelCheckpoint\n"
   ]
  },
  {
   "cell_type": "code",
   "execution_count": 215,
   "metadata": {},
   "outputs": [],
   "source": [
    "model = Sequential([\n",
    "    # 1차원 feature map 생성\n",
    "    Conv1D(filters=32, kernel_size=12,\n",
    "           padding=\"causal\",\n",
    "           activation=\"relu\",\n",
    "           input_shape=[WINDOW_SIZE, 1]),\n",
    "    # LSTM\n",
    "    LSTM(16, activation='tanh'),\n",
    "    Dense(16, activation=\"relu\"),\n",
    "    Dense(1),\n",
    "])"
   ]
  },
  {
   "cell_type": "code",
   "execution_count": 216,
   "metadata": {},
   "outputs": [],
   "source": [
    "# Sequence 학습에 비교적 좋은 퍼포먼스를 내는 Huber()를 사용합니다.\n",
    "loss = Huber()\n",
    "optimizer = Adam(0.0005)\n",
    "model.compile(loss=Huber(), optimizer=optimizer, metrics=['mse'])"
   ]
  },
  {
   "cell_type": "code",
   "execution_count": 217,
   "metadata": {},
   "outputs": [],
   "source": [
    "# earlystopping은 10번 epoch통안 val_loss 개선이 없다면 학습을 멈춥니다.\n",
    "earlystopping = EarlyStopping(monitor='val_loss', patience=10)\n",
    "# val_loss 기준 체크포인터도 생성합니다.\n",
    "filename = os.path.join('tmp', 'ckeckpointer.ckpt')\n",
    "checkpoint = ModelCheckpoint(filename, \n",
    "                             save_weights_only=True, \n",
    "                             save_best_only=True, \n",
    "                             monitor='val_loss', \n",
    "                             verbose=1)"
   ]
  },
  {
   "cell_type": "code",
   "execution_count": 218,
   "metadata": {},
   "outputs": [
    {
     "name": "stdout",
     "output_type": "stream",
     "text": [
      "Epoch 1/100\n"
     ]
    },
    {
     "name": "stderr",
     "output_type": "stream",
     "text": [
      "2022-06-10 13:32:23.644905: I tensorflow/core/grappler/optimizers/custom_graph_optimizer_registry.cc:112] Plugin optimizer for device_type GPU is enabled.\n",
      "2022-06-10 13:32:23.797447: I tensorflow/core/grappler/optimizers/custom_graph_optimizer_registry.cc:112] Plugin optimizer for device_type GPU is enabled.\n"
     ]
    },
    {
     "name": "stdout",
     "output_type": "stream",
     "text": [
      "      5/Unknown - 1s 15ms/step - loss: 0.0960 - mse: 0.1919 "
     ]
    },
    {
     "name": "stderr",
     "output_type": "stream",
     "text": [
      "2022-06-10 13:32:23.872792: I tensorflow/core/grappler/optimizers/custom_graph_optimizer_registry.cc:112] Plugin optimizer for device_type GPU is enabled.\n"
     ]
    },
    {
     "name": "stdout",
     "output_type": "stream",
     "text": [
      "     13/Unknown - 1s 19ms/step - loss: 0.0738 - mse: 0.1476\n",
      "Epoch 00001: val_loss improved from inf to 0.04447, saving model to tmp/ckeckpointer.ckpt\n",
      "13/13 [==============================] - 1s 44ms/step - loss: 0.0738 - mse: 0.1476 - val_loss: 0.0445 - val_mse: 0.0889\n"
     ]
    },
    {
     "name": "stderr",
     "output_type": "stream",
     "text": [
      "2022-06-10 13:32:24.313586: I tensorflow/core/grappler/optimizers/custom_graph_optimizer_registry.cc:112] Plugin optimizer for device_type GPU is enabled.\n",
      "2022-06-10 13:32:24.373732: I tensorflow/core/grappler/optimizers/custom_graph_optimizer_registry.cc:112] Plugin optimizer for device_type GPU is enabled.\n"
     ]
    },
    {
     "name": "stdout",
     "output_type": "stream",
     "text": [
      "Epoch 2/100\n",
      "10/13 [======================>.......] - ETA: 0s - loss: 0.0231 - mse: 0.0462\n",
      "Epoch 00002: val_loss improved from 0.04447 to 0.00408, saving model to tmp/ckeckpointer.ckpt\n",
      "13/13 [==============================] - 0s 17ms/step - loss: 0.0205 - mse: 0.0410 - val_loss: 0.0041 - val_mse: 0.0082\n",
      "Epoch 3/100\n",
      "10/13 [======================>.......] - ETA: 0s - loss: 0.0038 - mse: 0.0076\n",
      "Epoch 00003: val_loss improved from 0.00408 to 0.00393, saving model to tmp/ckeckpointer.ckpt\n",
      "13/13 [==============================] - 0s 16ms/step - loss: 0.0039 - mse: 0.0078 - val_loss: 0.0039 - val_mse: 0.0079\n",
      "Epoch 4/100\n",
      "11/13 [========================>.....] - ETA: 0s - loss: 0.0036 - mse: 0.0072\n",
      "Epoch 00004: val_loss improved from 0.00393 to 0.00224, saving model to tmp/ckeckpointer.ckpt\n",
      "13/13 [==============================] - 0s 16ms/step - loss: 0.0035 - mse: 0.0071 - val_loss: 0.0022 - val_mse: 0.0045\n",
      "Epoch 5/100\n",
      "11/13 [========================>.....] - ETA: 0s - loss: 0.0025 - mse: 0.0051\n",
      "Epoch 00005: val_loss improved from 0.00224 to 0.00210, saving model to tmp/ckeckpointer.ckpt\n",
      "13/13 [==============================] - 0s 16ms/step - loss: 0.0026 - mse: 0.0051 - val_loss: 0.0021 - val_mse: 0.0042\n",
      "Epoch 6/100\n",
      "11/13 [========================>.....] - ETA: 0s - loss: 0.0021 - mse: 0.0041\n",
      "Epoch 00006: val_loss improved from 0.00210 to 0.00188, saving model to tmp/ckeckpointer.ckpt\n",
      "13/13 [==============================] - 0s 16ms/step - loss: 0.0020 - mse: 0.0040 - val_loss: 0.0019 - val_mse: 0.0038\n",
      "Epoch 7/100\n",
      "13/13 [==============================] - ETA: 0s - loss: 0.0015 - mse: 0.0030\n",
      "Epoch 00007: val_loss improved from 0.00188 to 0.00171, saving model to tmp/ckeckpointer.ckpt\n",
      "13/13 [==============================] - 0s 18ms/step - loss: 0.0015 - mse: 0.0030 - val_loss: 0.0017 - val_mse: 0.0034\n",
      "Epoch 8/100\n",
      "13/13 [==============================] - ETA: 0s - loss: 0.0011 - mse: 0.0023\n",
      "Epoch 00008: val_loss improved from 0.00171 to 0.00170, saving model to tmp/ckeckpointer.ckpt\n",
      "13/13 [==============================] - 0s 18ms/step - loss: 0.0011 - mse: 0.0023 - val_loss: 0.0017 - val_mse: 0.0034\n",
      "Epoch 9/100\n",
      " 9/13 [===================>..........] - ETA: 0s - loss: 8.8031e-04 - mse: 0.0018\n",
      "Epoch 00009: val_loss improved from 0.00170 to 0.00162, saving model to tmp/ckeckpointer.ckpt\n",
      "13/13 [==============================] - 0s 18ms/step - loss: 9.1375e-04 - mse: 0.0018 - val_loss: 0.0016 - val_mse: 0.0032\n",
      "Epoch 10/100\n",
      "13/13 [==============================] - ETA: 0s - loss: 7.5941e-04 - mse: 0.0015\n",
      "Epoch 00010: val_loss did not improve from 0.00162\n",
      "13/13 [==============================] - 0s 16ms/step - loss: 7.5941e-04 - mse: 0.0015 - val_loss: 0.0016 - val_mse: 0.0033\n",
      "Epoch 11/100\n",
      "13/13 [==============================] - ETA: 0s - loss: 6.6992e-04 - mse: 0.0013\n",
      "Epoch 00011: val_loss did not improve from 0.00162\n",
      "13/13 [==============================] - 0s 17ms/step - loss: 6.6992e-04 - mse: 0.0013 - val_loss: 0.0016 - val_mse: 0.0033\n",
      "Epoch 12/100\n",
      "10/13 [======================>.......] - ETA: 0s - loss: 6.3026e-04 - mse: 0.0013   \n",
      "Epoch 00012: val_loss did not improve from 0.00162\n",
      "13/13 [==============================] - 0s 15ms/step - loss: 6.2737e-04 - mse: 0.0013 - val_loss: 0.0016 - val_mse: 0.0033\n",
      "Epoch 13/100\n",
      "11/13 [========================>.....] - ETA: 0s - loss: 6.1966e-04 - mse: 0.0012\n",
      "Epoch 00013: val_loss did not improve from 0.00162\n",
      "13/13 [==============================] - 0s 15ms/step - loss: 6.0848e-04 - mse: 0.0012 - val_loss: 0.0017 - val_mse: 0.0034\n",
      "Epoch 14/100\n",
      "10/13 [======================>.......] - ETA: 0s - loss: 5.4183e-04 - mse: 0.0011    \n",
      "Epoch 00014: val_loss improved from 0.00162 to 0.00159, saving model to tmp/ckeckpointer.ckpt\n",
      "13/13 [==============================] - 0s 16ms/step - loss: 6.0740e-04 - mse: 0.0012 - val_loss: 0.0016 - val_mse: 0.0032\n",
      "Epoch 15/100\n",
      "10/13 [======================>.......] - ETA: 0s - loss: 5.1389e-04 - mse: 0.0010    \n",
      "Epoch 00015: val_loss did not improve from 0.00159\n",
      "13/13 [==============================] - 0s 16ms/step - loss: 6.0076e-04 - mse: 0.0012 - val_loss: 0.0017 - val_mse: 0.0033\n",
      "Epoch 16/100\n",
      "11/13 [========================>.....] - ETA: 0s - loss: 5.9448e-04 - mse: 0.0012   \n",
      "Epoch 00016: val_loss did not improve from 0.00159\n",
      "13/13 [==============================] - 0s 15ms/step - loss: 5.8824e-04 - mse: 0.0012 - val_loss: 0.0016 - val_mse: 0.0032\n",
      "Epoch 17/100\n",
      "10/13 [======================>.......] - ETA: 0s - loss: 6.4037e-04 - mse: 0.0013\n",
      "Epoch 00017: val_loss improved from 0.00159 to 0.00159, saving model to tmp/ckeckpointer.ckpt\n",
      "13/13 [==============================] - 0s 16ms/step - loss: 6.0584e-04 - mse: 0.0012 - val_loss: 0.0016 - val_mse: 0.0032\n",
      "Epoch 18/100\n",
      "11/13 [========================>.....] - ETA: 0s - loss: 5.8909e-04 - mse: 0.0012    \n",
      "Epoch 00018: val_loss did not improve from 0.00159\n",
      "13/13 [==============================] - 0s 15ms/step - loss: 5.8063e-04 - mse: 0.0012 - val_loss: 0.0017 - val_mse: 0.0034\n",
      "Epoch 19/100\n",
      "13/13 [==============================] - ETA: 0s - loss: 5.8759e-04 - mse: 0.0012  \n",
      "Epoch 00019: val_loss did not improve from 0.00159\n",
      "13/13 [==============================] - 0s 16ms/step - loss: 5.8759e-04 - mse: 0.0012 - val_loss: 0.0017 - val_mse: 0.0033\n",
      "Epoch 20/100\n",
      "10/13 [======================>.......] - ETA: 0s - loss: 5.9250e-04 - mse: 0.0012\n",
      "Epoch 00020: val_loss improved from 0.00159 to 0.00157, saving model to tmp/ckeckpointer.ckpt\n",
      "13/13 [==============================] - 0s 16ms/step - loss: 5.8248e-04 - mse: 0.0012 - val_loss: 0.0016 - val_mse: 0.0031\n",
      "Epoch 21/100\n",
      "11/13 [========================>.....] - ETA: 0s - loss: 6.1809e-04 - mse: 0.0012   \n",
      "Epoch 00021: val_loss improved from 0.00157 to 0.00153, saving model to tmp/ckeckpointer.ckpt\n",
      "13/13 [==============================] - 0s 16ms/step - loss: 5.9429e-04 - mse: 0.0012 - val_loss: 0.0015 - val_mse: 0.0031\n",
      "Epoch 22/100\n",
      "10/13 [======================>.......] - ETA: 0s - loss: 5.8511e-04 - mse: 0.0012   \n",
      "Epoch 00022: val_loss improved from 0.00153 to 0.00152, saving model to tmp/ckeckpointer.ckpt\n",
      "13/13 [==============================] - 0s 16ms/step - loss: 5.7222e-04 - mse: 0.0011 - val_loss: 0.0015 - val_mse: 0.0030\n",
      "Epoch 23/100\n",
      "10/13 [======================>.......] - ETA: 0s - loss: 5.4755e-04 - mse: 0.0011\n",
      "Epoch 00023: val_loss improved from 0.00152 to 0.00148, saving model to tmp/ckeckpointer.ckpt\n",
      "13/13 [==============================] - 0s 16ms/step - loss: 5.6236e-04 - mse: 0.0011 - val_loss: 0.0015 - val_mse: 0.0030\n",
      "Epoch 24/100\n",
      "11/13 [========================>.....] - ETA: 0s - loss: 5.8149e-04 - mse: 0.0012\n",
      "Epoch 00024: val_loss improved from 0.00148 to 0.00141, saving model to tmp/ckeckpointer.ckpt\n",
      "13/13 [==============================] - 0s 16ms/step - loss: 5.6476e-04 - mse: 0.0011 - val_loss: 0.0014 - val_mse: 0.0028\n",
      "Epoch 25/100\n",
      "11/13 [========================>.....] - ETA: 0s - loss: 5.5649e-04 - mse: 0.0011\n",
      "Epoch 00025: val_loss improved from 0.00141 to 0.00140, saving model to tmp/ckeckpointer.ckpt\n",
      "13/13 [==============================] - 0s 16ms/step - loss: 5.8256e-04 - mse: 0.0012 - val_loss: 0.0014 - val_mse: 0.0028\n",
      "Epoch 26/100\n",
      "10/13 [======================>.......] - ETA: 0s - loss: 6.2765e-04 - mse: 0.0013   \n",
      "Epoch 00026: val_loss did not improve from 0.00140\n",
      "13/13 [==============================] - 0s 15ms/step - loss: 6.3685e-04 - mse: 0.0013 - val_loss: 0.0015 - val_mse: 0.0030\n",
      "Epoch 27/100\n",
      "11/13 [========================>.....] - ETA: 0s - loss: 5.4817e-04 - mse: 0.0011\n",
      "Epoch 00027: val_loss did not improve from 0.00140\n",
      "13/13 [==============================] - 0s 15ms/step - loss: 5.5527e-04 - mse: 0.0011 - val_loss: 0.0016 - val_mse: 0.0032\n",
      "Epoch 28/100\n",
      "10/13 [======================>.......] - ETA: 0s - loss: 5.4607e-04 - mse: 0.0011    \n",
      "Epoch 00028: val_loss did not improve from 0.00140\n",
      "13/13 [==============================] - 0s 15ms/step - loss: 5.3935e-04 - mse: 0.0011 - val_loss: 0.0014 - val_mse: 0.0029\n",
      "Epoch 29/100\n",
      "11/13 [========================>.....] - ETA: 0s - loss: 5.4903e-04 - mse: 0.0011   \n",
      "Epoch 00029: val_loss did not improve from 0.00140\n",
      "13/13 [==============================] - 0s 15ms/step - loss: 5.3329e-04 - mse: 0.0011 - val_loss: 0.0014 - val_mse: 0.0029\n",
      "Epoch 30/100\n",
      "10/13 [======================>.......] - ETA: 0s - loss: 5.5041e-04 - mse: 0.0011    \n",
      "Epoch 00030: val_loss did not improve from 0.00140\n",
      "13/13 [==============================] - 0s 15ms/step - loss: 5.3249e-04 - mse: 0.0011 - val_loss: 0.0014 - val_mse: 0.0029\n",
      "Epoch 31/100\n",
      "11/13 [========================>.....] - ETA: 0s - loss: 5.6224e-04 - mse: 0.0011   \n",
      "Epoch 00031: val_loss improved from 0.00140 to 0.00133, saving model to tmp/ckeckpointer.ckpt\n",
      "13/13 [==============================] - 0s 16ms/step - loss: 5.3913e-04 - mse: 0.0011 - val_loss: 0.0013 - val_mse: 0.0027\n",
      "Epoch 32/100\n",
      "11/13 [========================>.....] - ETA: 0s - loss: 5.4447e-04 - mse: 0.0011\n",
      "Epoch 00032: val_loss did not improve from 0.00133\n",
      "13/13 [==============================] - 0s 15ms/step - loss: 5.3681e-04 - mse: 0.0011 - val_loss: 0.0015 - val_mse: 0.0029\n",
      "Epoch 33/100\n",
      "10/13 [======================>.......] - ETA: 0s - loss: 5.6533e-04 - mse: 0.0011    \n",
      "Epoch 00033: val_loss improved from 0.00133 to 0.00131, saving model to tmp/ckeckpointer.ckpt\n",
      "13/13 [==============================] - 0s 16ms/step - loss: 5.1243e-04 - mse: 0.0010 - val_loss: 0.0013 - val_mse: 0.0026\n",
      "Epoch 34/100\n",
      "10/13 [======================>.......] - ETA: 0s - loss: 5.3167e-04 - mse: 0.0011    \n",
      "Epoch 00034: val_loss did not improve from 0.00131\n",
      "13/13 [==============================] - 0s 15ms/step - loss: 5.3009e-04 - mse: 0.0011 - val_loss: 0.0013 - val_mse: 0.0027\n",
      "Epoch 35/100\n",
      "11/13 [========================>.....] - ETA: 0s - loss: 6.4849e-04 - mse: 0.0013\n",
      "Epoch 00035: val_loss did not improve from 0.00131\n",
      "13/13 [==============================] - 0s 15ms/step - loss: 6.7515e-04 - mse: 0.0014 - val_loss: 0.0015 - val_mse: 0.0029\n",
      "Epoch 36/100\n",
      " 9/13 [===================>..........] - ETA: 0s - loss: 6.2089e-04 - mse: 0.0012\n",
      "Epoch 00036: val_loss did not improve from 0.00131\n",
      "13/13 [==============================] - 0s 15ms/step - loss: 5.8935e-04 - mse: 0.0012 - val_loss: 0.0016 - val_mse: 0.0032\n",
      "Epoch 37/100\n",
      "10/13 [======================>.......] - ETA: 0s - loss: 5.6662e-04 - mse: 0.0011\n",
      "Epoch 00037: val_loss did not improve from 0.00131\n",
      "13/13 [==============================] - 0s 15ms/step - loss: 5.4544e-04 - mse: 0.0011 - val_loss: 0.0015 - val_mse: 0.0029\n",
      "Epoch 38/100\n",
      "11/13 [========================>.....] - ETA: 0s - loss: 5.2716e-04 - mse: 0.0011   \n",
      "Epoch 00038: val_loss improved from 0.00131 to 0.00126, saving model to tmp/ckeckpointer.ckpt\n",
      "13/13 [==============================] - 0s 16ms/step - loss: 5.1885e-04 - mse: 0.0010 - val_loss: 0.0013 - val_mse: 0.0025\n",
      "Epoch 39/100\n",
      "11/13 [========================>.....] - ETA: 0s - loss: 5.5195e-04 - mse: 0.0011   \n",
      "Epoch 00039: val_loss did not improve from 0.00126\n",
      "13/13 [==============================] - 0s 15ms/step - loss: 5.4199e-04 - mse: 0.0011 - val_loss: 0.0014 - val_mse: 0.0027\n",
      "Epoch 40/100\n",
      "10/13 [======================>.......] - ETA: 0s - loss: 4.6030e-04 - mse: 9.2060e-04\n",
      "Epoch 00040: val_loss did not improve from 0.00126\n",
      "13/13 [==============================] - 0s 15ms/step - loss: 4.9706e-04 - mse: 9.9411e-04 - val_loss: 0.0014 - val_mse: 0.0027\n",
      "Epoch 41/100\n",
      "11/13 [========================>.....] - ETA: 0s - loss: 4.9427e-04 - mse: 9.8854e-04\n",
      "Epoch 00041: val_loss did not improve from 0.00126\n",
      "13/13 [==============================] - 0s 15ms/step - loss: 4.9285e-04 - mse: 9.8569e-04 - val_loss: 0.0013 - val_mse: 0.0025\n",
      "Epoch 42/100\n",
      "10/13 [======================>.......] - ETA: 0s - loss: 4.9126e-04 - mse: 9.8252e-04\n",
      "Epoch 00042: val_loss did not improve from 0.00126\n",
      "13/13 [==============================] - 0s 15ms/step - loss: 4.8794e-04 - mse: 9.7587e-04 - val_loss: 0.0013 - val_mse: 0.0026\n",
      "Epoch 43/100\n",
      "10/13 [======================>.......] - ETA: 0s - loss: 4.7998e-04 - mse: 9.5996e-04\n",
      "Epoch 00043: val_loss did not improve from 0.00126\n",
      "13/13 [==============================] - 0s 15ms/step - loss: 4.7895e-04 - mse: 9.5791e-04 - val_loss: 0.0013 - val_mse: 0.0026\n",
      "Epoch 44/100\n",
      "11/13 [========================>.....] - ETA: 0s - loss: 4.9129e-04 - mse: 9.8258e-04\n",
      "Epoch 00044: val_loss did not improve from 0.00126\n",
      "13/13 [==============================] - 0s 15ms/step - loss: 4.8502e-04 - mse: 9.7004e-04 - val_loss: 0.0013 - val_mse: 0.0025\n",
      "Epoch 45/100\n",
      "10/13 [======================>.......] - ETA: 0s - loss: 4.9984e-04 - mse: 9.9968e-04\n",
      "Epoch 00045: val_loss improved from 0.00126 to 0.00119, saving model to tmp/ckeckpointer.ckpt\n",
      "13/13 [==============================] - 0s 16ms/step - loss: 4.9725e-04 - mse: 9.9449e-04 - val_loss: 0.0012 - val_mse: 0.0024\n",
      "Epoch 46/100\n",
      "10/13 [======================>.......] - ETA: 0s - loss: 5.1086e-04 - mse: 0.0010   \n",
      "Epoch 00046: val_loss did not improve from 0.00119\n",
      "13/13 [==============================] - 0s 15ms/step - loss: 4.7880e-04 - mse: 9.5760e-04 - val_loss: 0.0012 - val_mse: 0.0025\n",
      "Epoch 47/100\n",
      "11/13 [========================>.....] - ETA: 0s - loss: 4.7583e-04 - mse: 9.5166e-04\n",
      "Epoch 00047: val_loss did not improve from 0.00119\n",
      "13/13 [==============================] - 0s 16ms/step - loss: 4.7029e-04 - mse: 9.4057e-04 - val_loss: 0.0012 - val_mse: 0.0024\n",
      "Epoch 48/100\n",
      "10/13 [======================>.......] - ETA: 0s - loss: 4.6929e-04 - mse: 9.3857e-04\n",
      "Epoch 00048: val_loss improved from 0.00119 to 0.00115, saving model to tmp/ckeckpointer.ckpt\n",
      "13/13 [==============================] - 0s 16ms/step - loss: 4.7423e-04 - mse: 9.4847e-04 - val_loss: 0.0012 - val_mse: 0.0023\n",
      "Epoch 49/100\n",
      "10/13 [======================>.......] - ETA: 0s - loss: 5.6251e-04 - mse: 0.0011   \n",
      "Epoch 00049: val_loss did not improve from 0.00115\n",
      "13/13 [==============================] - 0s 15ms/step - loss: 5.5699e-04 - mse: 0.0011 - val_loss: 0.0012 - val_mse: 0.0025\n",
      "Epoch 50/100\n",
      "10/13 [======================>.......] - ETA: 0s - loss: 5.9234e-04 - mse: 0.0012\n",
      "Epoch 00050: val_loss did not improve from 0.00115\n",
      "13/13 [==============================] - 0s 16ms/step - loss: 6.0142e-04 - mse: 0.0012 - val_loss: 0.0014 - val_mse: 0.0027\n",
      "Epoch 51/100\n",
      " 9/13 [===================>..........] - ETA: 0s - loss: 5.2368e-04 - mse: 0.0010   \n",
      "Epoch 00051: val_loss did not improve from 0.00115\n",
      "13/13 [==============================] - 0s 16ms/step - loss: 5.0326e-04 - mse: 0.0010 - val_loss: 0.0013 - val_mse: 0.0027\n",
      "Epoch 52/100\n",
      "13/13 [==============================] - ETA: 0s - loss: 4.8608e-04 - mse: 9.7216e-04\n",
      "Epoch 00052: val_loss did not improve from 0.00115\n",
      "13/13 [==============================] - 0s 16ms/step - loss: 4.8608e-04 - mse: 9.7216e-04 - val_loss: 0.0012 - val_mse: 0.0025\n",
      "Epoch 53/100\n",
      "13/13 [==============================] - ETA: 0s - loss: 4.5316e-04 - mse: 9.0633e-04\n",
      "Epoch 00053: val_loss improved from 0.00115 to 0.00110, saving model to tmp/ckeckpointer.ckpt\n",
      "13/13 [==============================] - 0s 17ms/step - loss: 4.5316e-04 - mse: 9.0633e-04 - val_loss: 0.0011 - val_mse: 0.0022\n",
      "Epoch 54/100\n",
      "10/13 [======================>.......] - ETA: 0s - loss: 4.6046e-04 - mse: 9.2093e-04\n",
      "Epoch 00054: val_loss did not improve from 0.00110\n",
      "13/13 [==============================] - 0s 15ms/step - loss: 4.7289e-04 - mse: 9.4579e-04 - val_loss: 0.0011 - val_mse: 0.0023\n",
      "Epoch 55/100\n",
      "10/13 [======================>.......] - ETA: 0s - loss: 4.5992e-04 - mse: 9.1984e-04\n",
      "Epoch 00055: val_loss did not improve from 0.00110\n",
      "13/13 [==============================] - 0s 15ms/step - loss: 4.7131e-04 - mse: 9.4261e-04 - val_loss: 0.0013 - val_mse: 0.0026\n",
      "Epoch 56/100\n",
      " 9/13 [===================>..........] - ETA: 0s - loss: 4.4168e-04 - mse: 8.8336e-04\n",
      "Epoch 00056: val_loss improved from 0.00110 to 0.00106, saving model to tmp/ckeckpointer.ckpt\n",
      "13/13 [==============================] - 0s 17ms/step - loss: 4.4210e-04 - mse: 8.8419e-04 - val_loss: 0.0011 - val_mse: 0.0021\n",
      "Epoch 57/100\n",
      " 9/13 [===================>..........] - ETA: 0s - loss: 4.4765e-04 - mse: 8.9531e-04\n",
      "Epoch 00057: val_loss improved from 0.00106 to 0.00105, saving model to tmp/ckeckpointer.ckpt\n",
      "13/13 [==============================] - 0s 16ms/step - loss: 4.7445e-04 - mse: 9.4890e-04 - val_loss: 0.0011 - val_mse: 0.0021\n",
      "Epoch 58/100\n",
      "10/13 [======================>.......] - ETA: 0s - loss: 4.1485e-04 - mse: 8.2970e-04\n",
      "Epoch 00058: val_loss did not improve from 0.00105\n",
      "13/13 [==============================] - 0s 15ms/step - loss: 4.2873e-04 - mse: 8.5746e-04 - val_loss: 0.0012 - val_mse: 0.0025\n",
      "Epoch 59/100\n",
      " 9/13 [===================>..........] - ETA: 0s - loss: 4.2705e-04 - mse: 8.5409e-04\n",
      "Epoch 00059: val_loss did not improve from 0.00105\n",
      "13/13 [==============================] - 0s 15ms/step - loss: 4.4617e-04 - mse: 8.9235e-04 - val_loss: 0.0013 - val_mse: 0.0026\n",
      "Epoch 60/100\n",
      "10/13 [======================>.......] - ETA: 0s - loss: 4.6180e-04 - mse: 9.2361e-04\n",
      "Epoch 00060: val_loss did not improve from 0.00105\n",
      "13/13 [==============================] - 0s 15ms/step - loss: 4.4904e-04 - mse: 8.9808e-04 - val_loss: 0.0012 - val_mse: 0.0025\n",
      "Epoch 61/100\n",
      "10/13 [======================>.......] - ETA: 0s - loss: 4.1577e-04 - mse: 8.3154e-04\n",
      "Epoch 00061: val_loss improved from 0.00105 to 0.00104, saving model to tmp/ckeckpointer.ckpt\n",
      "13/13 [==============================] - 0s 16ms/step - loss: 4.2339e-04 - mse: 8.4677e-04 - val_loss: 0.0010 - val_mse: 0.0021\n",
      "Epoch 62/100\n",
      "10/13 [======================>.......] - ETA: 0s - loss: 4.0539e-04 - mse: 8.1078e-04\n",
      "Epoch 00062: val_loss improved from 0.00104 to 0.00100, saving model to tmp/ckeckpointer.ckpt\n",
      "13/13 [==============================] - 0s 17ms/step - loss: 4.3724e-04 - mse: 8.7449e-04 - val_loss: 9.9936e-04 - val_mse: 0.0020\n",
      "Epoch 63/100\n",
      "10/13 [======================>.......] - ETA: 0s - loss: 4.9661e-04 - mse: 9.9322e-04\n",
      "Epoch 00063: val_loss improved from 0.00100 to 0.00098, saving model to tmp/ckeckpointer.ckpt\n",
      "13/13 [==============================] - 0s 16ms/step - loss: 4.9302e-04 - mse: 9.8604e-04 - val_loss: 9.8364e-04 - val_mse: 0.0020\n",
      "Epoch 64/100\n",
      "10/13 [======================>.......] - ETA: 0s - loss: 4.1448e-04 - mse: 8.2897e-04\n",
      "Epoch 00064: val_loss did not improve from 0.00098\n",
      "13/13 [==============================] - 0s 15ms/step - loss: 4.3658e-04 - mse: 8.7317e-04 - val_loss: 0.0011 - val_mse: 0.0021\n",
      "Epoch 65/100\n",
      "10/13 [======================>.......] - ETA: 0s - loss: 4.5719e-04 - mse: 9.1438e-04\n",
      "Epoch 00065: val_loss improved from 0.00098 to 0.00098, saving model to tmp/ckeckpointer.ckpt\n",
      "13/13 [==============================] - 0s 16ms/step - loss: 4.5443e-04 - mse: 9.0885e-04 - val_loss: 9.7688e-04 - val_mse: 0.0020\n",
      "Epoch 66/100\n",
      "11/13 [========================>.....] - ETA: 0s - loss: 4.4743e-04 - mse: 8.9486e-04\n",
      "Epoch 00066: val_loss improved from 0.00098 to 0.00097, saving model to tmp/ckeckpointer.ckpt\n",
      "13/13 [==============================] - 0s 16ms/step - loss: 4.6355e-04 - mse: 9.2710e-04 - val_loss: 9.6629e-04 - val_mse: 0.0019\n",
      "Epoch 67/100\n",
      "10/13 [======================>.......] - ETA: 0s - loss: 5.1536e-04 - mse: 0.0010\n",
      "Epoch 00067: val_loss did not improve from 0.00097\n",
      "13/13 [==============================] - 0s 15ms/step - loss: 5.2963e-04 - mse: 0.0011 - val_loss: 9.8326e-04 - val_mse: 0.0020\n",
      "Epoch 68/100\n",
      " 9/13 [===================>..........] - ETA: 0s - loss: 4.0400e-04 - mse: 8.0801e-04\n",
      "Epoch 00068: val_loss did not improve from 0.00097\n",
      "13/13 [==============================] - 0s 15ms/step - loss: 4.4223e-04 - mse: 8.8446e-04 - val_loss: 9.7657e-04 - val_mse: 0.0020\n",
      "Epoch 69/100\n",
      "10/13 [======================>.......] - ETA: 0s - loss: 4.5222e-04 - mse: 9.0445e-04\n",
      "Epoch 00069: val_loss did not improve from 0.00097\n",
      "13/13 [==============================] - 0s 15ms/step - loss: 4.2855e-04 - mse: 8.5709e-04 - val_loss: 9.6959e-04 - val_mse: 0.0019\n",
      "Epoch 70/100\n",
      "10/13 [======================>.......] - ETA: 0s - loss: 5.1177e-04 - mse: 0.0010\n",
      "Epoch 00070: val_loss improved from 0.00097 to 0.00095, saving model to tmp/ckeckpointer.ckpt\n",
      "13/13 [==============================] - 0s 16ms/step - loss: 4.8598e-04 - mse: 9.7197e-04 - val_loss: 9.5427e-04 - val_mse: 0.0019\n",
      "Epoch 71/100\n",
      "11/13 [========================>.....] - ETA: 0s - loss: 4.4092e-04 - mse: 8.8185e-04\n",
      "Epoch 00071: val_loss did not improve from 0.00095\n",
      "13/13 [==============================] - 0s 15ms/step - loss: 4.6315e-04 - mse: 9.2631e-04 - val_loss: 9.6551e-04 - val_mse: 0.0019\n",
      "Epoch 72/100\n",
      "10/13 [======================>.......] - ETA: 0s - loss: 4.8543e-04 - mse: 9.7086e-04\n",
      "Epoch 00072: val_loss improved from 0.00095 to 0.00095, saving model to tmp/ckeckpointer.ckpt\n",
      "13/13 [==============================] - 0s 16ms/step - loss: 4.4290e-04 - mse: 8.8581e-04 - val_loss: 9.5411e-04 - val_mse: 0.0019\n",
      "Epoch 73/100\n",
      "10/13 [======================>.......] - ETA: 0s - loss: 3.7478e-04 - mse: 7.4955e-04\n",
      "Epoch 00073: val_loss improved from 0.00095 to 0.00094, saving model to tmp/ckeckpointer.ckpt\n",
      "13/13 [==============================] - 0s 16ms/step - loss: 4.1224e-04 - mse: 8.2448e-04 - val_loss: 9.4362e-04 - val_mse: 0.0019\n",
      "Epoch 74/100\n",
      "11/13 [========================>.....] - ETA: 0s - loss: 4.2088e-04 - mse: 8.4176e-04\n",
      "Epoch 00074: val_loss improved from 0.00094 to 0.00092, saving model to tmp/ckeckpointer.ckpt\n",
      "13/13 [==============================] - 0s 16ms/step - loss: 4.2086e-04 - mse: 8.4172e-04 - val_loss: 9.1827e-04 - val_mse: 0.0018\n",
      "Epoch 75/100\n",
      "10/13 [======================>.......] - ETA: 0s - loss: 3.6903e-04 - mse: 7.3806e-04\n",
      "Epoch 00075: val_loss improved from 0.00092 to 0.00089, saving model to tmp/ckeckpointer.ckpt\n",
      "13/13 [==============================] - 0s 17ms/step - loss: 4.2233e-04 - mse: 8.4466e-04 - val_loss: 8.9489e-04 - val_mse: 0.0018\n",
      "Epoch 76/100\n",
      "10/13 [======================>.......] - ETA: 0s - loss: 4.4134e-04 - mse: 8.8268e-04\n",
      "Epoch 00076: val_loss did not improve from 0.00089\n",
      "13/13 [==============================] - 0s 15ms/step - loss: 4.1873e-04 - mse: 8.3746e-04 - val_loss: 8.9846e-04 - val_mse: 0.0018\n",
      "Epoch 77/100\n",
      "10/13 [======================>.......] - ETA: 0s - loss: 4.4054e-04 - mse: 8.8107e-04\n",
      "Epoch 00077: val_loss improved from 0.00089 to 0.00088, saving model to tmp/ckeckpointer.ckpt\n",
      "13/13 [==============================] - 0s 16ms/step - loss: 4.3394e-04 - mse: 8.6788e-04 - val_loss: 8.8258e-04 - val_mse: 0.0018\n",
      "Epoch 78/100\n",
      "10/13 [======================>.......] - ETA: 0s - loss: 4.1871e-04 - mse: 8.3742e-04\n",
      "Epoch 00078: val_loss improved from 0.00088 to 0.00087, saving model to tmp/ckeckpointer.ckpt\n",
      "13/13 [==============================] - 0s 17ms/step - loss: 4.0570e-04 - mse: 8.1141e-04 - val_loss: 8.6862e-04 - val_mse: 0.0017\n",
      "Epoch 79/100\n",
      " 9/13 [===================>..........] - ETA: 0s - loss: 4.0277e-04 - mse: 8.0554e-04\n",
      "Epoch 00079: val_loss improved from 0.00087 to 0.00087, saving model to tmp/ckeckpointer.ckpt\n",
      "13/13 [==============================] - 0s 17ms/step - loss: 3.8389e-04 - mse: 7.6778e-04 - val_loss: 8.6548e-04 - val_mse: 0.0017\n",
      "Epoch 80/100\n",
      "10/13 [======================>.......] - ETA: 0s - loss: 3.9968e-04 - mse: 7.9935e-04\n",
      "Epoch 00080: val_loss improved from 0.00087 to 0.00085, saving model to tmp/ckeckpointer.ckpt\n",
      "13/13 [==============================] - 0s 16ms/step - loss: 3.9117e-04 - mse: 7.8233e-04 - val_loss: 8.5427e-04 - val_mse: 0.0017\n",
      "Epoch 81/100\n",
      "10/13 [======================>.......] - ETA: 0s - loss: 3.4702e-04 - mse: 6.9403e-04\n",
      "Epoch 00081: val_loss did not improve from 0.00085\n",
      "13/13 [==============================] - 0s 16ms/step - loss: 3.6675e-04 - mse: 7.3349e-04 - val_loss: 8.6423e-04 - val_mse: 0.0017\n",
      "Epoch 82/100\n",
      " 9/13 [===================>..........] - ETA: 0s - loss: 3.6435e-04 - mse: 7.2871e-04\n",
      "Epoch 00082: val_loss did not improve from 0.00085\n",
      "13/13 [==============================] - 0s 16ms/step - loss: 3.6909e-04 - mse: 7.3819e-04 - val_loss: 8.6287e-04 - val_mse: 0.0017\n",
      "Epoch 83/100\n",
      " 9/13 [===================>..........] - ETA: 0s - loss: 4.2169e-04 - mse: 8.4337e-04\n",
      "Epoch 00083: val_loss did not improve from 0.00085\n",
      "13/13 [==============================] - 0s 15ms/step - loss: 3.7556e-04 - mse: 7.5112e-04 - val_loss: 8.7865e-04 - val_mse: 0.0018\n",
      "Epoch 84/100\n",
      "13/13 [==============================] - ETA: 0s - loss: 3.7539e-04 - mse: 7.5078e-04\n",
      "Epoch 00084: val_loss did not improve from 0.00085\n",
      "13/13 [==============================] - 0s 17ms/step - loss: 3.7539e-04 - mse: 7.5078e-04 - val_loss: 8.8379e-04 - val_mse: 0.0018\n",
      "Epoch 85/100\n",
      "11/13 [========================>.....] - ETA: 0s - loss: 4.0118e-04 - mse: 8.0236e-04\n",
      "Epoch 00085: val_loss did not improve from 0.00085\n",
      "13/13 [==============================] - 0s 22ms/step - loss: 4.3206e-04 - mse: 8.6412e-04 - val_loss: 8.8778e-04 - val_mse: 0.0018\n",
      "Epoch 86/100\n",
      "13/13 [==============================] - ETA: 0s - loss: 4.0609e-04 - mse: 8.1219e-04\n",
      "Epoch 00086: val_loss improved from 0.00085 to 0.00080, saving model to tmp/ckeckpointer.ckpt\n",
      "13/13 [==============================] - 0s 18ms/step - loss: 4.0609e-04 - mse: 8.1219e-04 - val_loss: 8.0346e-04 - val_mse: 0.0016\n",
      "Epoch 87/100\n",
      " 9/13 [===================>..........] - ETA: 0s - loss: 3.7426e-04 - mse: 7.4852e-04\n",
      "Epoch 00087: val_loss improved from 0.00080 to 0.00079, saving model to tmp/ckeckpointer.ckpt\n",
      "13/13 [==============================] - 0s 17ms/step - loss: 3.6048e-04 - mse: 7.2096e-04 - val_loss: 7.9294e-04 - val_mse: 0.0016\n",
      "Epoch 88/100\n",
      "10/13 [======================>.......] - ETA: 0s - loss: 3.9391e-04 - mse: 7.8783e-04\n",
      "Epoch 00088: val_loss did not improve from 0.00079\n",
      "13/13 [==============================] - 0s 15ms/step - loss: 3.9036e-04 - mse: 7.8073e-04 - val_loss: 8.3916e-04 - val_mse: 0.0017\n",
      "Epoch 89/100\n",
      " 9/13 [===================>..........] - ETA: 0s - loss: 4.1950e-04 - mse: 8.3899e-04\n",
      "Epoch 00089: val_loss did not improve from 0.00079\n",
      "13/13 [==============================] - 0s 15ms/step - loss: 3.9298e-04 - mse: 7.8597e-04 - val_loss: 0.0011 - val_mse: 0.0022\n",
      "Epoch 90/100\n",
      "10/13 [======================>.......] - ETA: 0s - loss: 4.1465e-04 - mse: 8.2931e-04\n",
      "Epoch 00090: val_loss did not improve from 0.00079\n",
      "13/13 [==============================] - 0s 15ms/step - loss: 3.7856e-04 - mse: 7.5711e-04 - val_loss: 8.8169e-04 - val_mse: 0.0018\n",
      "Epoch 91/100\n",
      "10/13 [======================>.......] - ETA: 0s - loss: 3.5856e-04 - mse: 7.1711e-04\n",
      "Epoch 00091: val_loss did not improve from 0.00079\n",
      "13/13 [==============================] - 0s 15ms/step - loss: 3.5353e-04 - mse: 7.0707e-04 - val_loss: 8.1035e-04 - val_mse: 0.0016\n",
      "Epoch 92/100\n",
      "10/13 [======================>.......] - ETA: 0s - loss: 3.3425e-04 - mse: 6.6850e-04\n",
      "Epoch 00092: val_loss did not improve from 0.00079\n",
      "13/13 [==============================] - 0s 15ms/step - loss: 3.4658e-04 - mse: 6.9317e-04 - val_loss: 8.1757e-04 - val_mse: 0.0016\n",
      "Epoch 93/100\n",
      " 9/13 [===================>..........] - ETA: 0s - loss: 3.7246e-04 - mse: 7.4491e-04\n",
      "Epoch 00093: val_loss did not improve from 0.00079\n",
      "13/13 [==============================] - 0s 16ms/step - loss: 3.4834e-04 - mse: 6.9668e-04 - val_loss: 8.7920e-04 - val_mse: 0.0018\n",
      "Epoch 94/100\n",
      "10/13 [======================>.......] - ETA: 0s - loss: 3.6721e-04 - mse: 7.3441e-04\n",
      "Epoch 00094: val_loss did not improve from 0.00079\n",
      "13/13 [==============================] - 0s 15ms/step - loss: 3.5138e-04 - mse: 7.0277e-04 - val_loss: 9.3950e-04 - val_mse: 0.0019\n",
      "Epoch 95/100\n",
      "10/13 [======================>.......] - ETA: 0s - loss: 3.5897e-04 - mse: 7.1795e-04\n",
      "Epoch 00095: val_loss improved from 0.00079 to 0.00078, saving model to tmp/ckeckpointer.ckpt\n",
      "13/13 [==============================] - 0s 16ms/step - loss: 3.8746e-04 - mse: 7.7492e-04 - val_loss: 7.7565e-04 - val_mse: 0.0016\n",
      "Epoch 96/100\n",
      " 9/13 [===================>..........] - ETA: 0s - loss: 3.4833e-04 - mse: 6.9665e-04\n",
      "Epoch 00096: val_loss did not improve from 0.00078\n",
      "13/13 [==============================] - 0s 16ms/step - loss: 3.3687e-04 - mse: 6.7373e-04 - val_loss: 7.8561e-04 - val_mse: 0.0016\n",
      "Epoch 97/100\n",
      "10/13 [======================>.......] - ETA: 0s - loss: 3.5986e-04 - mse: 7.1972e-04\n",
      "Epoch 00097: val_loss improved from 0.00078 to 0.00077, saving model to tmp/ckeckpointer.ckpt\n",
      "13/13 [==============================] - 0s 17ms/step - loss: 3.4669e-04 - mse: 6.9338e-04 - val_loss: 7.7225e-04 - val_mse: 0.0015\n",
      "Epoch 98/100\n",
      " 9/13 [===================>..........] - ETA: 0s - loss: 3.9183e-04 - mse: 7.8367e-04\n",
      "Epoch 00098: val_loss did not improve from 0.00077\n",
      "13/13 [==============================] - 0s 16ms/step - loss: 3.7179e-04 - mse: 7.4359e-04 - val_loss: 0.0011 - val_mse: 0.0021\n",
      "Epoch 99/100\n",
      "13/13 [==============================] - ETA: 0s - loss: 3.8838e-04 - mse: 7.7675e-04\n",
      "Epoch 00099: val_loss did not improve from 0.00077\n",
      "13/13 [==============================] - 0s 16ms/step - loss: 3.8838e-04 - mse: 7.7675e-04 - val_loss: 8.8458e-04 - val_mse: 0.0018\n",
      "Epoch 100/100\n",
      "10/13 [======================>.......] - ETA: 0s - loss: 3.4787e-04 - mse: 6.9575e-04\n",
      "Epoch 00100: val_loss improved from 0.00077 to 0.00076, saving model to tmp/ckeckpointer.ckpt\n",
      "13/13 [==============================] - 0s 17ms/step - loss: 3.7795e-04 - mse: 7.5590e-04 - val_loss: 7.6476e-04 - val_mse: 0.0015\n"
     ]
    }
   ],
   "source": [
    "history = model.fit(train_data, \n",
    "                    validation_data=(test_data), \n",
    "                    epochs=100, \n",
    "                    callbacks=[checkpoint, earlystopping])"
   ]
  },
  {
   "cell_type": "code",
   "execution_count": 219,
   "metadata": {},
   "outputs": [
    {
     "data": {
      "text/plain": [
       "<tensorflow.python.training.tracking.util.CheckpointLoadStatus at 0x2c56e3be0>"
      ]
     },
     "execution_count": 219,
     "metadata": {},
     "output_type": "execute_result"
    }
   ],
   "source": [
    "model.load_weights(filename)"
   ]
  },
  {
   "cell_type": "code",
   "execution_count": 220,
   "metadata": {},
   "outputs": [
    {
     "name": "stderr",
     "output_type": "stream",
     "text": [
      "2022-06-10 13:32:51.266842: I tensorflow/core/grappler/optimizers/custom_graph_optimizer_registry.cc:112] Plugin optimizer for device_type GPU is enabled.\n",
      "2022-06-10 13:32:51.311778: I tensorflow/core/grappler/optimizers/custom_graph_optimizer_registry.cc:112] Plugin optimizer for device_type GPU is enabled.\n"
     ]
    }
   ],
   "source": [
    "pred = model.predict(test_data)"
   ]
  },
  {
   "cell_type": "code",
   "execution_count": 221,
   "metadata": {},
   "outputs": [
    {
     "data": {
      "text/plain": [
       "(95, 1)"
      ]
     },
     "execution_count": 221,
     "metadata": {},
     "output_type": "execute_result"
    }
   ],
   "source": [
    "pred.shape"
   ]
  },
  {
   "cell_type": "code",
   "execution_count": 222,
   "metadata": {},
   "outputs": [],
   "source": [
    "test = []\n",
    "for i, value in enumerate(y_test):\n",
    "    if (i+1) % 7 == 0:\n",
    "        test.append(value)"
   ]
  },
  {
   "cell_type": "code",
   "execution_count": 223,
   "metadata": {},
   "outputs": [
    {
     "name": "stdout",
     "output_type": "stream",
     "text": [
      "96\n"
     ]
    }
   ],
   "source": [
    "test = test[1:]\n",
    "print(len(test))"
   ]
  },
  {
   "cell_type": "code",
   "execution_count": 224,
   "metadata": {},
   "outputs": [
    {
     "data": {
      "image/png": "[encoded data removed]",
      "text/plain": [
       "<Figure size 864x648 with 1 Axes>"
      ]
     },
     "metadata": {
      "needs_background": "light"
     },
     "output_type": "display_data"
    }
   ],
   "source": [
    "plt.figure(figsize=(12, 9))\n",
    "# plt.plot(np.asarray(y_test)[20:], label='actual')\n",
    "plt.plot(test, label='actual')\n",
    "plt.plot(pred, label='prediction')\n",
    "plt.legend()\n",
    "plt.show()"
   ]
  },
  {
   "cell_type": "code",
   "execution_count": null,
   "metadata": {},
   "outputs": [],
   "source": []
  }
 ],
 "metadata": {
  "interpreter": {
   "hash": "e3584e0094cc606059de00670c8f2673321413961648b189247649573872e648"
  },
  "kernelspec": {
   "display_name": "Python 3.8.13 ('a29')",
   "language": "python",
   "name": "python3"
  },
  "language_info": {
   "codemirror_mode": {
    "name": "ipython",
    "version": 3
   },
   "file_extension": ".py",
   "mimetype": "text/x-python",
   "name": "python",
   "nbconvert_exporter": "python",
   "pygments_lexer": "ipython3",
   "version": "3.8.13"
  },
  "orig_nbformat": 4
 },
 "nbformat": 4,
 "nbformat_minor": 2
}
